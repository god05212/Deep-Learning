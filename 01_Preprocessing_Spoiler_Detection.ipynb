{
  "nbformat": 4,
  "nbformat_minor": 0,
  "metadata": {
    "colab": {
      "name": "01_Preprocessing_Spoiler_Detection.ipynb",
      "provenance": [],
      "collapsed_sections": [],
      "toc_visible": true,
      "include_colab_link": true
    },
    "kernelspec": {
      "display_name": "Python 3",
      "language": "python",
      "name": "python3"
    },
    "language_info": {
      "codemirror_mode": {
        "name": "ipython",
        "version": 3
      },
      "file_extension": ".py",
      "mimetype": "text/x-python",
      "name": "python",
      "nbconvert_exporter": "python",
      "pygments_lexer": "ipython3",
      "version": "3.7.0"
    }
  },
  "cells": [
    {
      "cell_type": "markdown",
      "metadata": {
        "id": "view-in-github",
        "colab_type": "text"
      },
      "source": [
        "<a href=\"https://colab.research.google.com/github/god05212/Deep-Learning/blob/main/01_Preprocessing_Spoiler_Detection.ipynb\" target=\"_parent\"><img src=\"https://colab.research.google.com/assets/colab-badge.svg\" alt=\"Open In Colab\"/></a>"
      ]
    },
    {
      "cell_type": "markdown",
      "source": [
        "# Spoiler-Detection\n",
        "\n",
        "## 딥러닝으로 영화 리뷰 속 스포일러 찾기\n",
        "\n",
        "\n",
        "## 개요\n",
        "\n",
        "  스포일러가 포함된 영화 리뷰를 찾아내는 딥러닝 모델을 만드는 프로젝트입니다. 리뷰 기능이 있는 OTT 서비스나 영화 큐레이션 서비스에서 사용자가 지속적으로 스포일러가 포함된 리뷰를 보게 된다면 스포일러를 피하고자 해당 서비스에 접속하는 것 자체를 꺼리게 될 수도 있습니다. 따라서, 고객들이 스포일러가 포함된 리뷰 때문에 다른 서비스로 이동하는 것을 방지하기 위해서 자연어 처리를 사용하여 스포일러가 포함된 리뷰를 처리할 수 있는 모델을 만들고자 하였습니다.\n",
        "  \n",
        "  사용할 수 있는 시간과 컴퓨터 자원에 한계가 있었지만 다행히 해결하고자 하는 문제가 이진 분류로 간단하였습니다. 따라서 무조건 자연어 처리 분야의 최신 모델을 적용하기보다는 두 문서의 유사도를 판단하는 모델 중에서 비교적 가벼운 모델을 조사하였으며, 그 과정에서 ManhattanLSTM(이하 MaLSTM)을 알게 되었습니다. 해당 모델을 응용하여 임베딩에는 [Word2Vec을 사용하여 사전 훈련된 벡터](https://code.google.com/archive/p/word2vec/)를, 모델 구조에는 Siamese neural network 구조와 Convolution, LSTM, Fully connected layer를 사용해서 모델을 생성하였습니다.\n",
        "\n",
        "<br/>\n",
        "\n",
        " ## 사용한 데이터셋\n",
        " \n",
        "IMDB Spoiler Dataset: Can you identify which reviews have spoilers to improve user experience?\n",
        "- Rishabh Misra, 2019. 05. <br/>\n",
        "- doi: 10.13140/RG.2.2.11584.15362 <br/>\n",
        "- https://rishabhmisra.github.io/publications\n",
        "- https://www.kaggle.com/rmisra/imdb-spoiler-dataset?select=IMDB_reviews.json (License - CC0: Public Domain)\n",
        "\n",
        "위 데이터셋은 영화 제목, 상영 시간, 장르, 줄거리 등 영화 정보에 대한 데이터와 리뷰별 작성자, 해당하는 영화의 코드, 리뷰 내용 등 리뷰 정보에 대한 데이터를 가지고 있습니다. 이 중에서 영화의 플롯 요약본과 리뷰를 사용해서 프로젝트를 진행하였습니다.\n",
        "\n",
        "<br/>\n",
        "\n",
        "## 프로젝트 수행 과정\n",
        "\n",
        "- 기준 모델\n",
        "  - 모든 리뷰에 대해서 '스포일러를 포함하고 있지 않다.라고 예측하는 것\n",
        "  - Validation dataset에 대한 accuracy: 약 0.7693\n",
        "  - Validation dataset에 대한 f1 score: 0\n",
        "\n",
        "<br/>\n",
        "\n",
        "- 모델 생성\n",
        "\n",
        "![image](https://user-images.githubusercontent.com/70365836/122967695-b3977e00-d3c5-11eb-80f8-b43dac3dcaf4.png)\n",
        "\n",
        "<br/>\n",
        "\n",
        "- Step 2 결과 생성된 모델의 validation dataset에 대한 accuracy, f1 score (소수점 다섯째 자리에서 반올림)\n",
        "\n",
        "| Siamese neural network 부분에 사용된 layer | Accuracy | F1 score |\n",
        "|:----------------------------------------|:---------|:---------|\n",
        "| (MaLSTM)                                | 0.7731   | 0.2635   |\n",
        "| LSTM                                    | 0.7844   | 0.2801   |\n",
        "| GRU                                     | 0.7889   | 0.3153   |\n",
        "| BiLSTM                                  | 0.7867   | 0.2972   |\n",
        "| BiGRU                                   | 0.7910   | 0.3438 |\n",
        "| Conv1D + LSTM | 0.7932 | 0.4079 |\n",
        "| Conv1D + GRU | 0.7918 | 0.3719 |\n",
        "| Conv1D + BiLSTM | 0.7923 | 0.4123 |\n",
        "| Conv1D + LSTM + LSTM | 0.7969 | 0.3530 |\n",
        "| Conv1D + BiLSTM + LSTM | 0.7955 | 0.3689 |\n",
        "| Conv1D + LSTM + BiLSTM | 0.7967 | 0.3926 |\n",
        "\n",
        "\n",
        "<br/>\n",
        "\n",
        "## 최종 모델\n",
        "\n",
        "- 모델 구조\n",
        "\n",
        "![image](https://user-images.githubusercontent.com/70365836/125570194-b68bd453-03bd-4ff6-bc41-66bf35e5cf84.png)\n",
        "\n",
        "- Test dataset에 대한 결과\n",
        "  - Accuracy: 약 0.8025\n",
        "  - F1 score: 약 0.4000\n",
        "\n",
        "<br/>\n",
        "\n",
        "## 배운 점\n",
        "\n",
        "> \"주어진 상황에서 선택할 수 있는 최선의 방법을 찾아야 한다.\"\n",
        "\n",
        "  프로젝트 기간이 일주일로 매우 짧았고, 사용할 수 있는 컴퓨터 자원에는 한계가 있었습니다. 따라서, 최신 기술만을 고집하기보다는 현재의 상황과 해결해야 할 문제를 분석하고 그에 맞는 방법을 찾고자 노력하였고, 그 덕분에 기간 내에 결과물을 도출할 수 있었습니다. 이를 통해서 최신 기술이 항상 최선의 방법인 것은 아니라는 것, 그리고 주어진 상황을 빠르게 파악하고 그에 맞는 방법을 찾는 게 중요하다는 것을 배울 수 있었습니다.\n",
        "\n",
        "<br>\n",
        "\n",
        "### 참고 문헌\n",
        "\n",
        "- Kim, Y. (2014). Convolutional Neural Networks for Sentence Classification. *Proceedings of the 2014 Conference on Empirical Methods in Natural Language Processing (EMNLP)*, 1746–1751.\n",
        "    https://arxiv.org/abs/1408.5882  \n",
        "- Mueller, J., & Thyagarajan, A. (2015). Siamese Recurrent Architectures for Learning Sentence Similarity. AAAI-16. Arizona, USA.\n",
        "- Pontes, E., & Huet, S., & Linhares, A., Torres-Moreno, J. (2018). Predicting the Semantic Textual Similarity with Siamese CNN and LSTM. *Traitement Automatique des Langues Naturelles (TALN)*, 1, 311–320.\n",
        "    https://arxiv.org/abs/1810.10641\n",
        "\n",
        "<br/>\n",
        "\n",
        "### 참고 게시글\n",
        "\n",
        "- [One Shot Learning with Siamese Networks using Keras](https://towardsdatascience.com/one-shot-learning-with-siamese-networks-using-keras-17f34e75bb3d)\n",
        "- [How to predict Quora Question Pairs using Siamese Manhattan LSTM](https://medium.com/mlreview/implementing-malstm-on-kaggles-quora-question-pairs-competition-8b31b0b16a07)\n",
        "- [클린봇 2.0: 문맥을 이해하는 악성 댓글(단문) 탐지 AI](https://d2.naver.com/helloworld/7753273)"
      ],
      "metadata": {
        "id": "5iZFfpWMAdwJ"
      }
    },
    {
      "cell_type": "markdown",
      "metadata": {
        "id": "TqRkQnqoZcrN"
      },
      "source": [
        "### 사용한 데이터셋\n",
        "\n",
        "> IMDB Spoiler Dataset: Can you identify which reviews have spoilers to improve user experience?\n",
        "> - Rishabh Misra, 2019. 05. <br/>\n",
        "> - doi: 10.13140/RG.2.2.11584.15362 <br/>\n",
        "> - https://rishabhmisra.github.io/publications\n",
        ">- https://www.kaggle.com/rmisra/imdb-spoiler-dataset?select=IMDB_reviews.json"
      ]
    },
    {
      "cell_type": "markdown",
      "metadata": {
        "id": "lsO8LeU9a_3H"
      },
      "source": [
        "### 1) 데이터 정리 및 EDA"
      ]
    },
    {
      "cell_type": "markdown",
      "metadata": {
        "id": "1m7VfYuKdMdD"
      },
      "source": [
        "#### 1. 데이터 불러오기"
      ]
    },
    {
      "cell_type": "code",
      "metadata": {
        "id": "QZR_7SpvZXnf"
      },
      "source": [
        "import pandas as pd\n",
        "import numpy as np\n",
        "import random\n",
        "import os\n",
        "\n",
        "np.random.seed(42)\n",
        "random.seed(42)"
      ],
      "execution_count": null,
      "outputs": []
    },
    {
      "cell_type": "code",
      "metadata": {
        "id": "LsWajZRWb6bM"
      },
      "source": [
        "base_path = 'IMDB_Spoiler_Dataset'\n",
        "details_path = os.path.join(base_path, 'IMDB_movie_details.json')\n",
        "reviews_path = os.path.join(base_path, 'IMDB_reviews.json')"
      ],
      "execution_count": null,
      "outputs": []
    },
    {
      "cell_type": "code",
      "metadata": {
        "colab": {
          "base_uri": "https://localhost:8080/",
          "height": 315
        },
        "id": "IX3N_IpNccQw",
        "outputId": "93d2a63f-fc2a-40a8-826e-ad0caf6eecf9"
      },
      "source": [
        "details_df = pd.read_json(details_path, lines=True)\n",
        "\n",
        "print(details_df.shape)\n",
        "details_df.head(3)"
      ],
      "execution_count": null,
      "outputs": [
        {
          "output_type": "stream",
          "text": [
            "(1572, 7)\n"
          ],
          "name": "stdout"
        },
        {
          "output_type": "execute_result",
          "data": {
            "text/html": [
              "<div>\n",
              "<style scoped>\n",
              "    .dataframe tbody tr th:only-of-type {\n",
              "        vertical-align: middle;\n",
              "    }\n",
              "\n",
              "    .dataframe tbody tr th {\n",
              "        vertical-align: top;\n",
              "    }\n",
              "\n",
              "    .dataframe thead th {\n",
              "        text-align: right;\n",
              "    }\n",
              "</style>\n",
              "<table border=\"1\" class=\"dataframe\">\n",
              "  <thead>\n",
              "    <tr style=\"text-align: right;\">\n",
              "      <th></th>\n",
              "      <th>movie_id</th>\n",
              "      <th>plot_summary</th>\n",
              "      <th>duration</th>\n",
              "      <th>genre</th>\n",
              "      <th>rating</th>\n",
              "      <th>release_date</th>\n",
              "      <th>plot_synopsis</th>\n",
              "    </tr>\n",
              "  </thead>\n",
              "  <tbody>\n",
              "    <tr>\n",
              "      <th>0</th>\n",
              "      <td>tt0105112</td>\n",
              "      <td>Former CIA analyst, Jack Ryan is in England wi...</td>\n",
              "      <td>1h 57min</td>\n",
              "      <td>[Action, Thriller]</td>\n",
              "      <td>6.9</td>\n",
              "      <td>1992-06-05</td>\n",
              "      <td>Jack Ryan (Ford) is on a \"working vacation\" in...</td>\n",
              "    </tr>\n",
              "    <tr>\n",
              "      <th>1</th>\n",
              "      <td>tt1204975</td>\n",
              "      <td>Billy (Michael Douglas), Paddy (Robert De Niro...</td>\n",
              "      <td>1h 45min</td>\n",
              "      <td>[Comedy]</td>\n",
              "      <td>6.6</td>\n",
              "      <td>2013-11-01</td>\n",
              "      <td>Four boys around the age of 10 are friends in ...</td>\n",
              "    </tr>\n",
              "    <tr>\n",
              "      <th>2</th>\n",
              "      <td>tt0243655</td>\n",
              "      <td>The setting is Camp Firewood, the year 1981. I...</td>\n",
              "      <td>1h 37min</td>\n",
              "      <td>[Comedy, Romance]</td>\n",
              "      <td>6.7</td>\n",
              "      <td>2002-04-11</td>\n",
              "      <td></td>\n",
              "    </tr>\n",
              "  </tbody>\n",
              "</table>\n",
              "</div>"
            ],
            "text/plain": [
              "    movie_id                                       plot_summary  duration  \\\n",
              "0  tt0105112  Former CIA analyst, Jack Ryan is in England wi...  1h 57min   \n",
              "1  tt1204975  Billy (Michael Douglas), Paddy (Robert De Niro...  1h 45min   \n",
              "2  tt0243655  The setting is Camp Firewood, the year 1981. I...  1h 37min   \n",
              "\n",
              "                genre  rating release_date  \\\n",
              "0  [Action, Thriller]     6.9   1992-06-05   \n",
              "1            [Comedy]     6.6   2013-11-01   \n",
              "2   [Comedy, Romance]     6.7   2002-04-11   \n",
              "\n",
              "                                       plot_synopsis  \n",
              "0  Jack Ryan (Ford) is on a \"working vacation\" in...  \n",
              "1  Four boys around the age of 10 are friends in ...  \n",
              "2                                                     "
            ]
          },
          "metadata": {
            "tags": []
          },
          "execution_count": 3
        }
      ]
    },
    {
      "cell_type": "code",
      "metadata": {
        "colab": {
          "base_uri": "https://localhost:8080/",
          "height": 298
        },
        "id": "BODKvu60cqw5",
        "outputId": "dc33e304-7881-4de1-cb54-dc5e48e24ce6"
      },
      "source": [
        "details_df.tail(3)"
      ],
      "execution_count": null,
      "outputs": [
        {
          "output_type": "execute_result",
          "data": {
            "text/html": [
              "<div>\n",
              "<style scoped>\n",
              "    .dataframe tbody tr th:only-of-type {\n",
              "        vertical-align: middle;\n",
              "    }\n",
              "\n",
              "    .dataframe tbody tr th {\n",
              "        vertical-align: top;\n",
              "    }\n",
              "\n",
              "    .dataframe thead th {\n",
              "        text-align: right;\n",
              "    }\n",
              "</style>\n",
              "<table border=\"1\" class=\"dataframe\">\n",
              "  <thead>\n",
              "    <tr style=\"text-align: right;\">\n",
              "      <th></th>\n",
              "      <th>movie_id</th>\n",
              "      <th>plot_summary</th>\n",
              "      <th>duration</th>\n",
              "      <th>genre</th>\n",
              "      <th>rating</th>\n",
              "      <th>release_date</th>\n",
              "      <th>plot_synopsis</th>\n",
              "    </tr>\n",
              "  </thead>\n",
              "  <tbody>\n",
              "    <tr>\n",
              "      <th>1569</th>\n",
              "      <td>tt5013056</td>\n",
              "      <td>Evacuation of Allied soldiers from the British...</td>\n",
              "      <td>1h 46min</td>\n",
              "      <td>[Action, Drama, History]</td>\n",
              "      <td>8.1</td>\n",
              "      <td>2017-07-21</td>\n",
              "      <td>The film alternates between three different pe...</td>\n",
              "    </tr>\n",
              "    <tr>\n",
              "      <th>1570</th>\n",
              "      <td>tt0104014/</td>\n",
              "      <td>For a while now, beautiful 24-year-old Diana B...</td>\n",
              "      <td>1h 33min</td>\n",
              "      <td>[Comedy, Drama]</td>\n",
              "      <td>5.3</td>\n",
              "      <td>1992-02-21</td>\n",
              "      <td></td>\n",
              "    </tr>\n",
              "    <tr>\n",
              "      <th>1571</th>\n",
              "      <td>tt0114142/</td>\n",
              "      <td>The marriage of David Burgess, a senior execut...</td>\n",
              "      <td>1h 32min</td>\n",
              "      <td>[Drama, Thriller]</td>\n",
              "      <td>4.0</td>\n",
              "      <td>1999-01-29</td>\n",
              "      <td></td>\n",
              "    </tr>\n",
              "  </tbody>\n",
              "</table>\n",
              "</div>"
            ],
            "text/plain": [
              "        movie_id                                       plot_summary  duration  \\\n",
              "1569   tt5013056  Evacuation of Allied soldiers from the British...  1h 46min   \n",
              "1570  tt0104014/  For a while now, beautiful 24-year-old Diana B...  1h 33min   \n",
              "1571  tt0114142/  The marriage of David Burgess, a senior execut...  1h 32min   \n",
              "\n",
              "                         genre  rating release_date  \\\n",
              "1569  [Action, Drama, History]     8.1   2017-07-21   \n",
              "1570           [Comedy, Drama]     5.3   1992-02-21   \n",
              "1571         [Drama, Thriller]     4.0   1999-01-29   \n",
              "\n",
              "                                          plot_synopsis  \n",
              "1569  The film alternates between three different pe...  \n",
              "1570                                                     \n",
              "1571                                                     "
            ]
          },
          "metadata": {
            "tags": []
          },
          "execution_count": 4
        }
      ]
    },
    {
      "cell_type": "code",
      "metadata": {
        "colab": {
          "base_uri": "https://localhost:8080/",
          "height": 332
        },
        "id": "Erh0VAiRculP",
        "outputId": "d9e88993-fde5-4dd3-aa0d-845a029fc6ea"
      },
      "source": [
        "reviews_df = pd.read_json(reviews_path, lines=True)\n",
        "\n",
        "print(reviews_df.shape)\n",
        "reviews_df.head(3)"
      ],
      "execution_count": null,
      "outputs": [
        {
          "output_type": "stream",
          "text": [
            "(573913, 7)\n"
          ],
          "name": "stdout"
        },
        {
          "output_type": "execute_result",
          "data": {
            "text/html": [
              "<div>\n",
              "<style scoped>\n",
              "    .dataframe tbody tr th:only-of-type {\n",
              "        vertical-align: middle;\n",
              "    }\n",
              "\n",
              "    .dataframe tbody tr th {\n",
              "        vertical-align: top;\n",
              "    }\n",
              "\n",
              "    .dataframe thead th {\n",
              "        text-align: right;\n",
              "    }\n",
              "</style>\n",
              "<table border=\"1\" class=\"dataframe\">\n",
              "  <thead>\n",
              "    <tr style=\"text-align: right;\">\n",
              "      <th></th>\n",
              "      <th>review_date</th>\n",
              "      <th>movie_id</th>\n",
              "      <th>user_id</th>\n",
              "      <th>is_spoiler</th>\n",
              "      <th>review_text</th>\n",
              "      <th>rating</th>\n",
              "      <th>review_summary</th>\n",
              "    </tr>\n",
              "  </thead>\n",
              "  <tbody>\n",
              "    <tr>\n",
              "      <th>0</th>\n",
              "      <td>10 February 2006</td>\n",
              "      <td>tt0111161</td>\n",
              "      <td>ur1898687</td>\n",
              "      <td>True</td>\n",
              "      <td>In its Oscar year, Shawshank Redemption (writt...</td>\n",
              "      <td>10</td>\n",
              "      <td>A classic piece of unforgettable film-making.</td>\n",
              "    </tr>\n",
              "    <tr>\n",
              "      <th>1</th>\n",
              "      <td>6 September 2000</td>\n",
              "      <td>tt0111161</td>\n",
              "      <td>ur0842118</td>\n",
              "      <td>True</td>\n",
              "      <td>The Shawshank Redemption is without a doubt on...</td>\n",
              "      <td>10</td>\n",
              "      <td>Simply amazing. The best film of the 90's.</td>\n",
              "    </tr>\n",
              "    <tr>\n",
              "      <th>2</th>\n",
              "      <td>3 August 2001</td>\n",
              "      <td>tt0111161</td>\n",
              "      <td>ur1285640</td>\n",
              "      <td>True</td>\n",
              "      <td>I believe that this film is the best story eve...</td>\n",
              "      <td>8</td>\n",
              "      <td>The best story ever told on film</td>\n",
              "    </tr>\n",
              "  </tbody>\n",
              "</table>\n",
              "</div>"
            ],
            "text/plain": [
              "        review_date   movie_id    user_id  is_spoiler  \\\n",
              "0  10 February 2006  tt0111161  ur1898687        True   \n",
              "1  6 September 2000  tt0111161  ur0842118        True   \n",
              "2     3 August 2001  tt0111161  ur1285640        True   \n",
              "\n",
              "                                         review_text  rating  \\\n",
              "0  In its Oscar year, Shawshank Redemption (writt...      10   \n",
              "1  The Shawshank Redemption is without a doubt on...      10   \n",
              "2  I believe that this film is the best story eve...       8   \n",
              "\n",
              "                                  review_summary  \n",
              "0  A classic piece of unforgettable film-making.  \n",
              "1     Simply amazing. The best film of the 90's.  \n",
              "2               The best story ever told on film  "
            ]
          },
          "metadata": {
            "tags": []
          },
          "execution_count": 5
        }
      ]
    },
    {
      "cell_type": "code",
      "metadata": {
        "colab": {
          "base_uri": "https://localhost:8080/",
          "height": 315
        },
        "id": "O3ejKOj5c253",
        "outputId": "9791b7dc-2e85-4307-a823-ad9c80db8c94"
      },
      "source": [
        "reviews_df.tail(3)"
      ],
      "execution_count": null,
      "outputs": [
        {
          "output_type": "execute_result",
          "data": {
            "text/html": [
              "<div>\n",
              "<style scoped>\n",
              "    .dataframe tbody tr th:only-of-type {\n",
              "        vertical-align: middle;\n",
              "    }\n",
              "\n",
              "    .dataframe tbody tr th {\n",
              "        vertical-align: top;\n",
              "    }\n",
              "\n",
              "    .dataframe thead th {\n",
              "        text-align: right;\n",
              "    }\n",
              "</style>\n",
              "<table border=\"1\" class=\"dataframe\">\n",
              "  <thead>\n",
              "    <tr style=\"text-align: right;\">\n",
              "      <th></th>\n",
              "      <th>review_date</th>\n",
              "      <th>movie_id</th>\n",
              "      <th>user_id</th>\n",
              "      <th>is_spoiler</th>\n",
              "      <th>review_text</th>\n",
              "      <th>rating</th>\n",
              "      <th>review_summary</th>\n",
              "    </tr>\n",
              "  </thead>\n",
              "  <tbody>\n",
              "    <tr>\n",
              "      <th>573910</th>\n",
              "      <td>20 July 1999</td>\n",
              "      <td>tt0139239</td>\n",
              "      <td>ur0392750</td>\n",
              "      <td>False</td>\n",
              "      <td>Go is the best movie I have ever seen, and I'v...</td>\n",
              "      <td>10</td>\n",
              "      <td>It's the best movie I've ever seen</td>\n",
              "    </tr>\n",
              "    <tr>\n",
              "      <th>573911</th>\n",
              "      <td>11 June 1999</td>\n",
              "      <td>tt0139239</td>\n",
              "      <td>ur0349105</td>\n",
              "      <td>False</td>\n",
              "      <td>Call this 1999 teenage version of Pulp Fiction...</td>\n",
              "      <td>3</td>\n",
              "      <td>Haven't we seen this before?</td>\n",
              "    </tr>\n",
              "    <tr>\n",
              "      <th>573912</th>\n",
              "      <td>3 May 1999</td>\n",
              "      <td>tt0139239</td>\n",
              "      <td>ur0156431</td>\n",
              "      <td>False</td>\n",
              "      <td>Why was this movie made? No doubt to sucker in...</td>\n",
              "      <td>2</td>\n",
              "      <td>Go doesn't go anywhere</td>\n",
              "    </tr>\n",
              "  </tbody>\n",
              "</table>\n",
              "</div>"
            ],
            "text/plain": [
              "         review_date   movie_id    user_id  is_spoiler  \\\n",
              "573910  20 July 1999  tt0139239  ur0392750       False   \n",
              "573911  11 June 1999  tt0139239  ur0349105       False   \n",
              "573912    3 May 1999  tt0139239  ur0156431       False   \n",
              "\n",
              "                                              review_text  rating  \\\n",
              "573910  Go is the best movie I have ever seen, and I'v...      10   \n",
              "573911  Call this 1999 teenage version of Pulp Fiction...       3   \n",
              "573912  Why was this movie made? No doubt to sucker in...       2   \n",
              "\n",
              "                            review_summary  \n",
              "573910  It's the best movie I've ever seen  \n",
              "573911        Haven't we seen this before?  \n",
              "573912              Go doesn't go anywhere  "
            ]
          },
          "metadata": {
            "tags": []
          },
          "execution_count": 6
        }
      ]
    },
    {
      "cell_type": "markdown",
      "metadata": {
        "id": "773WSuNodQhj"
      },
      "source": [
        "#### 2. 데이터 전처리"
      ]
    },
    {
      "cell_type": "code",
      "metadata": {
        "id": "a9xlwF6w8C4L"
      },
      "source": [
        "import matplotlib.pyplot as plt \n",
        "import seaborn as sns"
      ],
      "execution_count": null,
      "outputs": []
    },
    {
      "cell_type": "code",
      "metadata": {
        "colab": {
          "base_uri": "https://localhost:8080/"
        },
        "id": "B4OGSJhcdBVK",
        "outputId": "2d961622-7050-45bb-e960-3dab758e24d6"
      },
      "source": [
        "# 데이터 타입 및 결측치 확인\n",
        "print(details_df.info(), end='\\n\\n')\n",
        "print(reviews_df.info())"
      ],
      "execution_count": null,
      "outputs": [
        {
          "output_type": "stream",
          "text": [
            "<class 'pandas.core.frame.DataFrame'>\n",
            "RangeIndex: 1572 entries, 0 to 1571\n",
            "Data columns (total 7 columns):\n",
            " #   Column         Non-Null Count  Dtype  \n",
            "---  ------         --------------  -----  \n",
            " 0   movie_id       1572 non-null   object \n",
            " 1   plot_summary   1572 non-null   object \n",
            " 2   duration       1572 non-null   object \n",
            " 3   genre          1572 non-null   object \n",
            " 4   rating         1572 non-null   float64\n",
            " 5   release_date   1572 non-null   object \n",
            " 6   plot_synopsis  1572 non-null   object \n",
            "dtypes: float64(1), object(6)\n",
            "memory usage: 86.1+ KB\n",
            "None\n",
            "\n",
            "<class 'pandas.core.frame.DataFrame'>\n",
            "RangeIndex: 573913 entries, 0 to 573912\n",
            "Data columns (total 7 columns):\n",
            " #   Column          Non-Null Count   Dtype \n",
            "---  ------          --------------   ----- \n",
            " 0   review_date     573913 non-null  object\n",
            " 1   movie_id        573913 non-null  object\n",
            " 2   user_id         573913 non-null  object\n",
            " 3   is_spoiler      573913 non-null  bool  \n",
            " 4   review_text     573913 non-null  object\n",
            " 5   rating          573913 non-null  int64 \n",
            " 6   review_summary  573913 non-null  object\n",
            "dtypes: bool(1), int64(1), object(5)\n",
            "memory usage: 26.8+ MB\n",
            "None\n"
          ],
          "name": "stdout"
        }
      ]
    },
    {
      "cell_type": "code",
      "metadata": {
        "id": "_GFdzJqN8C4M",
        "outputId": "41907312-15ba-41d1-b791-b26e43cef16c"
      },
      "source": [
        "# 데이터 중복 확인\n",
        "print(details_df.drop(['genre'], axis=1).duplicated().any())\n",
        "print(reviews_df.duplicated().any())"
      ],
      "execution_count": null,
      "outputs": [
        {
          "output_type": "stream",
          "text": [
            "False\n",
            "False\n"
          ],
          "name": "stdout"
        }
      ]
    },
    {
      "cell_type": "code",
      "metadata": {
        "id": "CQZC3qov8C4N",
        "outputId": "459623da-9819-402b-8fee-47b4eae94872"
      },
      "source": [
        "print(details_df[['plot_summary']].duplicated().any())\n",
        "print(details_df[['plot_synopsis']].duplicated().any())"
      ],
      "execution_count": null,
      "outputs": [
        {
          "output_type": "stream",
          "text": [
            "False\n",
            "True\n"
          ],
          "name": "stdout"
        }
      ]
    },
    {
      "cell_type": "code",
      "metadata": {
        "id": "jj3GUX0L8C4N"
      },
      "source": [
        "details_df['summary_len'] = details_df['plot_summary'].apply(lambda x: len(x))\n",
        "details_df['synopsis_len'] = details_df['plot_synopsis'].apply(lambda x: len(x))"
      ],
      "execution_count": null,
      "outputs": []
    },
    {
      "cell_type": "code",
      "metadata": {
        "id": "GTMpP92N8C4N",
        "outputId": "e55f961a-f2b1-421d-ae2b-de482eab1394"
      },
      "source": [
        "details_df[['summary_len', 'synopsis_len']].describe()"
      ],
      "execution_count": null,
      "outputs": [
        {
          "output_type": "execute_result",
          "data": {
            "text/html": [
              "<div>\n",
              "<style scoped>\n",
              "    .dataframe tbody tr th:only-of-type {\n",
              "        vertical-align: middle;\n",
              "    }\n",
              "\n",
              "    .dataframe tbody tr th {\n",
              "        vertical-align: top;\n",
              "    }\n",
              "\n",
              "    .dataframe thead th {\n",
              "        text-align: right;\n",
              "    }\n",
              "</style>\n",
              "<table border=\"1\" class=\"dataframe\">\n",
              "  <thead>\n",
              "    <tr style=\"text-align: right;\">\n",
              "      <th></th>\n",
              "      <th>summary_len</th>\n",
              "      <th>synopsis_len</th>\n",
              "    </tr>\n",
              "  </thead>\n",
              "  <tbody>\n",
              "    <tr>\n",
              "      <th>count</th>\n",
              "      <td>1572.000000</td>\n",
              "      <td>1572.000000</td>\n",
              "    </tr>\n",
              "    <tr>\n",
              "      <th>mean</th>\n",
              "      <td>614.258270</td>\n",
              "      <td>8214.993639</td>\n",
              "    </tr>\n",
              "    <tr>\n",
              "      <th>std</th>\n",
              "      <td>240.194629</td>\n",
              "      <td>8435.385266</td>\n",
              "    </tr>\n",
              "    <tr>\n",
              "      <th>min</th>\n",
              "      <td>95.000000</td>\n",
              "      <td>0.000000</td>\n",
              "    </tr>\n",
              "    <tr>\n",
              "      <th>25%</th>\n",
              "      <td>423.750000</td>\n",
              "      <td>2898.750000</td>\n",
              "    </tr>\n",
              "    <tr>\n",
              "      <th>50%</th>\n",
              "      <td>578.000000</td>\n",
              "      <td>6192.500000</td>\n",
              "    </tr>\n",
              "    <tr>\n",
              "      <th>75%</th>\n",
              "      <td>783.500000</td>\n",
              "      <td>10871.000000</td>\n",
              "    </tr>\n",
              "    <tr>\n",
              "      <th>max</th>\n",
              "      <td>1077.000000</td>\n",
              "      <td>63904.000000</td>\n",
              "    </tr>\n",
              "  </tbody>\n",
              "</table>\n",
              "</div>"
            ],
            "text/plain": [
              "       summary_len  synopsis_len\n",
              "count  1572.000000   1572.000000\n",
              "mean    614.258270   8214.993639\n",
              "std     240.194629   8435.385266\n",
              "min      95.000000      0.000000\n",
              "25%     423.750000   2898.750000\n",
              "50%     578.000000   6192.500000\n",
              "75%     783.500000  10871.000000\n",
              "max    1077.000000  63904.000000"
            ]
          },
          "metadata": {
            "tags": []
          },
          "execution_count": 12
        }
      ]
    },
    {
      "cell_type": "markdown",
      "metadata": {
        "id": "gUfKDmdO8C4O"
      },
      "source": [
        "synopsis의 평균 글자수는 약 8, 215자나 된다. 이렇게 긴 문서를 처리하려면 시간도 오래 걸리고 메모리도 많이 필요하므로 summary를 사용하기로 한다."
      ]
    },
    {
      "cell_type": "code",
      "metadata": {
        "id": "h-HXLMdv8C4O",
        "outputId": "3f773f8f-fadd-4560-8cd2-25e437feb105"
      },
      "source": [
        "details_df = details_df.drop(['summary_len', 'synopsis_len', 'plot_synopsis'], axis=1)\n",
        "details_df.head(1)"
      ],
      "execution_count": null,
      "outputs": [
        {
          "output_type": "execute_result",
          "data": {
            "text/html": [
              "<div>\n",
              "<style scoped>\n",
              "    .dataframe tbody tr th:only-of-type {\n",
              "        vertical-align: middle;\n",
              "    }\n",
              "\n",
              "    .dataframe tbody tr th {\n",
              "        vertical-align: top;\n",
              "    }\n",
              "\n",
              "    .dataframe thead th {\n",
              "        text-align: right;\n",
              "    }\n",
              "</style>\n",
              "<table border=\"1\" class=\"dataframe\">\n",
              "  <thead>\n",
              "    <tr style=\"text-align: right;\">\n",
              "      <th></th>\n",
              "      <th>movie_id</th>\n",
              "      <th>plot_summary</th>\n",
              "      <th>duration</th>\n",
              "      <th>genre</th>\n",
              "      <th>rating</th>\n",
              "      <th>release_date</th>\n",
              "    </tr>\n",
              "  </thead>\n",
              "  <tbody>\n",
              "    <tr>\n",
              "      <th>0</th>\n",
              "      <td>tt0105112</td>\n",
              "      <td>Former CIA analyst, Jack Ryan is in England wi...</td>\n",
              "      <td>1h 57min</td>\n",
              "      <td>[Action, Thriller]</td>\n",
              "      <td>6.9</td>\n",
              "      <td>1992-06-05</td>\n",
              "    </tr>\n",
              "  </tbody>\n",
              "</table>\n",
              "</div>"
            ],
            "text/plain": [
              "    movie_id                                       plot_summary  duration  \\\n",
              "0  tt0105112  Former CIA analyst, Jack Ryan is in England wi...  1h 57min   \n",
              "\n",
              "                genre  rating release_date  \n",
              "0  [Action, Thriller]     6.9   1992-06-05  "
            ]
          },
          "metadata": {
            "tags": []
          },
          "execution_count": 13
        }
      ]
    },
    {
      "cell_type": "code",
      "metadata": {
        "id": "B9SQpyEx8C4O",
        "outputId": "51d022d9-5112-4608-fb01-9312b7a4769e"
      },
      "source": [
        "print(reviews_df[['review_text']].duplicated().any())\n",
        "print(reviews_df[['review_summary']].duplicated().any())"
      ],
      "execution_count": null,
      "outputs": [
        {
          "output_type": "stream",
          "text": [
            "True\n",
            "True\n"
          ],
          "name": "stdout"
        }
      ]
    },
    {
      "cell_type": "code",
      "metadata": {
        "id": "VdxKeIrc8C4O",
        "outputId": "d4dcc2de-8ae5-4626-a938-c1c475553765"
      },
      "source": [
        "reviews_df[reviews_df[['review_text']].duplicated()].head()\n",
        "# 똑같은 내용이 여러번 들어가있음 -> 제거"
      ],
      "execution_count": null,
      "outputs": [
        {
          "output_type": "execute_result",
          "data": {
            "text/html": [
              "<div>\n",
              "<style scoped>\n",
              "    .dataframe tbody tr th:only-of-type {\n",
              "        vertical-align: middle;\n",
              "    }\n",
              "\n",
              "    .dataframe tbody tr th {\n",
              "        vertical-align: top;\n",
              "    }\n",
              "\n",
              "    .dataframe thead th {\n",
              "        text-align: right;\n",
              "    }\n",
              "</style>\n",
              "<table border=\"1\" class=\"dataframe\">\n",
              "  <thead>\n",
              "    <tr style=\"text-align: right;\">\n",
              "      <th></th>\n",
              "      <th>review_date</th>\n",
              "      <th>movie_id</th>\n",
              "      <th>user_id</th>\n",
              "      <th>is_spoiler</th>\n",
              "      <th>review_text</th>\n",
              "      <th>rating</th>\n",
              "      <th>review_summary</th>\n",
              "    </tr>\n",
              "  </thead>\n",
              "  <tbody>\n",
              "    <tr>\n",
              "      <th>256</th>\n",
              "      <td>16 December 2016</td>\n",
              "      <td>tt0111161</td>\n",
              "      <td>ur70282174</td>\n",
              "      <td>True</td>\n",
              "      <td>I have never seen such an amazing film since I...</td>\n",
              "      <td>6</td>\n",
              "      <td>best movie</td>\n",
              "    </tr>\n",
              "    <tr>\n",
              "      <th>344</th>\n",
              "      <td>29 February 2016</td>\n",
              "      <td>tt0111161</td>\n",
              "      <td>ur48816155</td>\n",
              "      <td>True</td>\n",
              "      <td>One of my all time favorites. Shawshank Redemp...</td>\n",
              "      <td>10</td>\n",
              "      <td>my vote of 10</td>\n",
              "    </tr>\n",
              "    <tr>\n",
              "      <th>360</th>\n",
              "      <td>27 January 2016</td>\n",
              "      <td>tt0111161</td>\n",
              "      <td>ur65159163</td>\n",
              "      <td>True</td>\n",
              "      <td>I have never seen such an amazing film since I...</td>\n",
              "      <td>10</td>\n",
              "      <td>I love it</td>\n",
              "    </tr>\n",
              "    <tr>\n",
              "      <th>378</th>\n",
              "      <td>11 December 2015</td>\n",
              "      <td>tt0111161</td>\n",
              "      <td>ur51700029</td>\n",
              "      <td>True</td>\n",
              "      <td>And I truly mean that. When I first saw this f...</td>\n",
              "      <td>10</td>\n",
              "      <td>One of the Greatest Films of All Time.</td>\n",
              "    </tr>\n",
              "    <tr>\n",
              "      <th>384</th>\n",
              "      <td>1 November 2015</td>\n",
              "      <td>tt0111161</td>\n",
              "      <td>ur25208400</td>\n",
              "      <td>True</td>\n",
              "      <td>One of my all time favorites. Shawshank Redemp...</td>\n",
              "      <td>10</td>\n",
              "      <td>Real masterpiece</td>\n",
              "    </tr>\n",
              "  </tbody>\n",
              "</table>\n",
              "</div>"
            ],
            "text/plain": [
              "          review_date   movie_id     user_id  is_spoiler  \\\n",
              "256  16 December 2016  tt0111161  ur70282174        True   \n",
              "344  29 February 2016  tt0111161  ur48816155        True   \n",
              "360   27 January 2016  tt0111161  ur65159163        True   \n",
              "378  11 December 2015  tt0111161  ur51700029        True   \n",
              "384   1 November 2015  tt0111161  ur25208400        True   \n",
              "\n",
              "                                           review_text  rating  \\\n",
              "256  I have never seen such an amazing film since I...       6   \n",
              "344  One of my all time favorites. Shawshank Redemp...      10   \n",
              "360  I have never seen such an amazing film since I...      10   \n",
              "378  And I truly mean that. When I first saw this f...      10   \n",
              "384  One of my all time favorites. Shawshank Redemp...      10   \n",
              "\n",
              "                             review_summary  \n",
              "256                              best movie  \n",
              "344                           my vote of 10  \n",
              "360                               I love it  \n",
              "378  One of the Greatest Films of All Time.  \n",
              "384                        Real masterpiece  "
            ]
          },
          "metadata": {
            "tags": []
          },
          "execution_count": 15
        }
      ]
    },
    {
      "cell_type": "code",
      "metadata": {
        "id": "1GcnWNJU8C4P",
        "outputId": "b64bc75f-f7e2-445a-af32-68d3caf700fa"
      },
      "source": [
        "cond = reviews_df[reviews_df[['review_text']].duplicated()].index\n",
        "reviews_df = reviews_df.drop(cond)\n",
        "print(reviews_df.shape)"
      ],
      "execution_count": null,
      "outputs": [
        {
          "output_type": "stream",
          "text": [
            "(573385, 7)\n"
          ],
          "name": "stdout"
        }
      ]
    },
    {
      "cell_type": "code",
      "metadata": {
        "id": "QccFLopp8C4P",
        "outputId": "8ab6fcc0-8474-4fc8-f012-af1b73e3a666"
      },
      "source": [
        "reviews_df[reviews_df[['review_summary']].duplicated()].head()\n",
        "# 겹칠 수 있는 내용이고, 필요없는 컬럼이다."
      ],
      "execution_count": null,
      "outputs": [
        {
          "output_type": "execute_result",
          "data": {
            "text/html": [
              "<div>\n",
              "<style scoped>\n",
              "    .dataframe tbody tr th:only-of-type {\n",
              "        vertical-align: middle;\n",
              "    }\n",
              "\n",
              "    .dataframe tbody tr th {\n",
              "        vertical-align: top;\n",
              "    }\n",
              "\n",
              "    .dataframe thead th {\n",
              "        text-align: right;\n",
              "    }\n",
              "</style>\n",
              "<table border=\"1\" class=\"dataframe\">\n",
              "  <thead>\n",
              "    <tr style=\"text-align: right;\">\n",
              "      <th></th>\n",
              "      <th>review_date</th>\n",
              "      <th>movie_id</th>\n",
              "      <th>user_id</th>\n",
              "      <th>is_spoiler</th>\n",
              "      <th>review_text</th>\n",
              "      <th>rating</th>\n",
              "      <th>review_summary</th>\n",
              "    </tr>\n",
              "  </thead>\n",
              "  <tbody>\n",
              "    <tr>\n",
              "      <th>164</th>\n",
              "      <td>2 October 2017</td>\n",
              "      <td>tt0111161</td>\n",
              "      <td>ur52180042</td>\n",
              "      <td>True</td>\n",
              "      <td>Can Hollywood, usually creating things for ent...</td>\n",
              "      <td>9</td>\n",
              "      <td>The Shawshank Redemption</td>\n",
              "    </tr>\n",
              "    <tr>\n",
              "      <th>203</th>\n",
              "      <td>14 June 2017</td>\n",
              "      <td>tt0111161</td>\n",
              "      <td>ur77355001</td>\n",
              "      <td>True</td>\n",
              "      <td>This movie is by far one of the best movies I ...</td>\n",
              "      <td>10</td>\n",
              "      <td>Review</td>\n",
              "    </tr>\n",
              "    <tr>\n",
              "      <th>208</th>\n",
              "      <td>5 June 2017</td>\n",
              "      <td>tt0111161</td>\n",
              "      <td>ur57560257</td>\n",
              "      <td>True</td>\n",
              "      <td>Best movie It is definitely worthy of its numb...</td>\n",
              "      <td>10</td>\n",
              "      <td>Amazing</td>\n",
              "    </tr>\n",
              "    <tr>\n",
              "      <th>209</th>\n",
              "      <td>30 May 2017</td>\n",
              "      <td>tt0111161</td>\n",
              "      <td>ur76836648</td>\n",
              "      <td>True</td>\n",
              "      <td>This was a great movie!!!I enjoyed it. 10/10. ...</td>\n",
              "      <td>10</td>\n",
              "      <td>Best movie</td>\n",
              "    </tr>\n",
              "    <tr>\n",
              "      <th>234</th>\n",
              "      <td>21 March 2017</td>\n",
              "      <td>tt0111161</td>\n",
              "      <td>ur74212924</td>\n",
              "      <td>True</td>\n",
              "      <td>Tim Robbins plays Andy Dufresne, a city banker...</td>\n",
              "      <td>10</td>\n",
              "      <td>Awesome movie</td>\n",
              "    </tr>\n",
              "  </tbody>\n",
              "</table>\n",
              "</div>"
            ],
            "text/plain": [
              "        review_date   movie_id     user_id  is_spoiler  \\\n",
              "164  2 October 2017  tt0111161  ur52180042        True   \n",
              "203    14 June 2017  tt0111161  ur77355001        True   \n",
              "208     5 June 2017  tt0111161  ur57560257        True   \n",
              "209     30 May 2017  tt0111161  ur76836648        True   \n",
              "234   21 March 2017  tt0111161  ur74212924        True   \n",
              "\n",
              "                                           review_text  rating  \\\n",
              "164  Can Hollywood, usually creating things for ent...       9   \n",
              "203  This movie is by far one of the best movies I ...      10   \n",
              "208  Best movie It is definitely worthy of its numb...      10   \n",
              "209  This was a great movie!!!I enjoyed it. 10/10. ...      10   \n",
              "234  Tim Robbins plays Andy Dufresne, a city banker...      10   \n",
              "\n",
              "               review_summary  \n",
              "164  The Shawshank Redemption  \n",
              "203                    Review  \n",
              "208                   Amazing  \n",
              "209                Best movie  \n",
              "234             Awesome movie  "
            ]
          },
          "metadata": {
            "tags": []
          },
          "execution_count": 17
        }
      ]
    },
    {
      "cell_type": "code",
      "metadata": {
        "id": "u0f0QRe48C4P",
        "outputId": "8839cea2-8ea2-4b00-d05c-7c9defa14b16"
      },
      "source": [
        "reviews_df = reviews_df.drop(['review_summary'], axis=1)\n",
        "reviews_df.head(1)"
      ],
      "execution_count": null,
      "outputs": [
        {
          "output_type": "execute_result",
          "data": {
            "text/html": [
              "<div>\n",
              "<style scoped>\n",
              "    .dataframe tbody tr th:only-of-type {\n",
              "        vertical-align: middle;\n",
              "    }\n",
              "\n",
              "    .dataframe tbody tr th {\n",
              "        vertical-align: top;\n",
              "    }\n",
              "\n",
              "    .dataframe thead th {\n",
              "        text-align: right;\n",
              "    }\n",
              "</style>\n",
              "<table border=\"1\" class=\"dataframe\">\n",
              "  <thead>\n",
              "    <tr style=\"text-align: right;\">\n",
              "      <th></th>\n",
              "      <th>review_date</th>\n",
              "      <th>movie_id</th>\n",
              "      <th>user_id</th>\n",
              "      <th>is_spoiler</th>\n",
              "      <th>review_text</th>\n",
              "      <th>rating</th>\n",
              "    </tr>\n",
              "  </thead>\n",
              "  <tbody>\n",
              "    <tr>\n",
              "      <th>0</th>\n",
              "      <td>10 February 2006</td>\n",
              "      <td>tt0111161</td>\n",
              "      <td>ur1898687</td>\n",
              "      <td>True</td>\n",
              "      <td>In its Oscar year, Shawshank Redemption (writt...</td>\n",
              "      <td>10</td>\n",
              "    </tr>\n",
              "  </tbody>\n",
              "</table>\n",
              "</div>"
            ],
            "text/plain": [
              "        review_date   movie_id    user_id  is_spoiler  \\\n",
              "0  10 February 2006  tt0111161  ur1898687        True   \n",
              "\n",
              "                                         review_text  rating  \n",
              "0  In its Oscar year, Shawshank Redemption (writt...      10  "
            ]
          },
          "metadata": {
            "tags": []
          },
          "execution_count": 18
        }
      ]
    },
    {
      "cell_type": "markdown",
      "metadata": {
        "id": "oLjCHJub8C4P"
      },
      "source": [
        "##### 내용 외 정보"
      ]
    },
    {
      "cell_type": "markdown",
      "metadata": {
        "id": "rvK-vS5A8C4P"
      },
      "source": [
        "- details_df"
      ]
    },
    {
      "cell_type": "code",
      "metadata": {
        "id": "4EeXQmeb8C4Q",
        "outputId": "26b44eb1-2046-4a43-b0a1-3bef1ad0bf88"
      },
      "source": [
        "# duration\n",
        "details_df['duration'][:10]"
      ],
      "execution_count": null,
      "outputs": [
        {
          "output_type": "execute_result",
          "data": {
            "text/plain": [
              "0    1h 57min\n",
              "1    1h 45min\n",
              "2    1h 37min\n",
              "3     2h 6min\n",
              "4    1h 43min\n",
              "5    2h 18min\n",
              "6    2h 17min\n",
              "7    1h 37min\n",
              "8    2h 22min\n",
              "9    1h 24min\n",
              "Name: duration, dtype: object"
            ]
          },
          "metadata": {
            "tags": []
          },
          "execution_count": 19
        }
      ]
    },
    {
      "cell_type": "code",
      "metadata": {
        "id": "PJRJgGiO8C4Q"
      },
      "source": [
        "# duration 숫자로\n",
        "def duration_to_int(value):\n",
        "    if 'h' in value:\n",
        "        hour = int(value.split('h')[0])\n",
        "        if len(value.split('h')[1]) > 0:\n",
        "            minute = int(value.split('h ')[1].split('min')[0])\n",
        "        else:\n",
        "            minute = 0\n",
        "    else:\n",
        "        hour = 0\n",
        "        minute = int(value.split('min')[0])\n",
        "    \n",
        "    return hour * 60 + minute"
      ],
      "execution_count": null,
      "outputs": []
    },
    {
      "cell_type": "code",
      "metadata": {
        "id": "Pjtz0wih8C4Q"
      },
      "source": [
        "details_df['duration'] = details_df['duration'].apply(duration_to_int)"
      ],
      "execution_count": null,
      "outputs": []
    },
    {
      "cell_type": "code",
      "metadata": {
        "id": "kLCWTFTT8C4Q"
      },
      "source": [
        "details_df['duration'] = details_df['duration'].astype(int)"
      ],
      "execution_count": null,
      "outputs": []
    },
    {
      "cell_type": "code",
      "metadata": {
        "id": "T4Kx7rq28C4Q",
        "outputId": "b2c05ab9-b5b7-4353-dbc8-bcccd9fab815"
      },
      "source": [
        "plt.figure(figsize=(12, 5))\n",
        "sns.set_theme(style=\"whitegrid\")\n",
        "\n",
        "plt.subplot(121)\n",
        "sns.histplot(data=details_df, x='duration')\n",
        "\n",
        "plt.subplot(122)\n",
        "sns.boxplot(data=details_df, x='duration');"
      ],
      "execution_count": null,
      "outputs": [
        {
          "output_type": "display_data",
          "data": {
            "image/png": "[encoded data removed]",
            "text/plain": [
              "<Figure size 864x360 with 2 Axes>"
            ]
          },
          "metadata": {
            "tags": [],
            "needs_background": "light"
          }
        }
      ]
    },
    {
      "cell_type": "code",
      "metadata": {
        "id": "t_p_VdZ08C4R"
      },
      "source": [
        "# 60분 이하, 180분 이상의 영화는 제거\n",
        "cond = details_df[(details_df['duration'] <= 60) | (details_df['duration'] >= 180)].index\n",
        "details_df = details_df.drop(cond)"
      ],
      "execution_count": null,
      "outputs": []
    },
    {
      "cell_type": "code",
      "metadata": {
        "id": "McjuH4L58C4R",
        "outputId": "ba9aaefe-481b-4f9f-8b8d-29ff75b083a7"
      },
      "source": [
        "# genre\n",
        "details_df['genre'].value_counts()"
      ],
      "execution_count": null,
      "outputs": [
        {
          "output_type": "execute_result",
          "data": {
            "text/plain": [
              "[Action, Adventure, Sci-Fi]    68\n",
              "[Comedy, Drama, Romance]       58\n",
              "[Comedy]                       49\n",
              "[Drama]                        48\n",
              "[Drama, Romance]               48\n",
              "                               ..\n",
              "[Drama, History, Music]         1\n",
              "[Action, Crime, Horror]         1\n",
              "[Comedy, War]                   1\n",
              "[Biography, Drama, Family]      1\n",
              "[Animation, Comedy, Drama]      1\n",
              "Name: genre, Length: 233, dtype: int64"
            ]
          },
          "metadata": {
            "tags": []
          },
          "execution_count": 25
        }
      ]
    },
    {
      "cell_type": "code",
      "metadata": {
        "id": "2sGNxipD8C4R"
      },
      "source": [
        "# 속하는 장르 개수, 대표 장르(가장 앞에 있는 것) 컬럼 생성\n",
        "details_df['genre_num'] = details_df['genre'].apply(lambda x: len(x))\n",
        "details_df['genre_main'] = details_df['genre'].apply(lambda x: x[0])"
      ],
      "execution_count": null,
      "outputs": []
    },
    {
      "cell_type": "code",
      "metadata": {
        "id": "QUu1bHhp8C4R",
        "outputId": "f9425d6c-8512-4ffc-d062-b782f08d047d"
      },
      "source": [
        "details_df.head(3)"
      ],
      "execution_count": null,
      "outputs": [
        {
          "output_type": "execute_result",
          "data": {
            "text/html": [
              "<div>\n",
              "<style scoped>\n",
              "    .dataframe tbody tr th:only-of-type {\n",
              "        vertical-align: middle;\n",
              "    }\n",
              "\n",
              "    .dataframe tbody tr th {\n",
              "        vertical-align: top;\n",
              "    }\n",
              "\n",
              "    .dataframe thead th {\n",
              "        text-align: right;\n",
              "    }\n",
              "</style>\n",
              "<table border=\"1\" class=\"dataframe\">\n",
              "  <thead>\n",
              "    <tr style=\"text-align: right;\">\n",
              "      <th></th>\n",
              "      <th>movie_id</th>\n",
              "      <th>plot_summary</th>\n",
              "      <th>duration</th>\n",
              "      <th>genre</th>\n",
              "      <th>rating</th>\n",
              "      <th>release_date</th>\n",
              "      <th>genre_num</th>\n",
              "      <th>genre_main</th>\n",
              "    </tr>\n",
              "  </thead>\n",
              "  <tbody>\n",
              "    <tr>\n",
              "      <th>0</th>\n",
              "      <td>tt0105112</td>\n",
              "      <td>Former CIA analyst, Jack Ryan is in England wi...</td>\n",
              "      <td>117</td>\n",
              "      <td>[Action, Thriller]</td>\n",
              "      <td>6.9</td>\n",
              "      <td>1992-06-05</td>\n",
              "      <td>2</td>\n",
              "      <td>Action</td>\n",
              "    </tr>\n",
              "    <tr>\n",
              "      <th>1</th>\n",
              "      <td>tt1204975</td>\n",
              "      <td>Billy (Michael Douglas), Paddy (Robert De Niro...</td>\n",
              "      <td>105</td>\n",
              "      <td>[Comedy]</td>\n",
              "      <td>6.6</td>\n",
              "      <td>2013-11-01</td>\n",
              "      <td>1</td>\n",
              "      <td>Comedy</td>\n",
              "    </tr>\n",
              "    <tr>\n",
              "      <th>2</th>\n",
              "      <td>tt0243655</td>\n",
              "      <td>The setting is Camp Firewood, the year 1981. I...</td>\n",
              "      <td>97</td>\n",
              "      <td>[Comedy, Romance]</td>\n",
              "      <td>6.7</td>\n",
              "      <td>2002-04-11</td>\n",
              "      <td>2</td>\n",
              "      <td>Comedy</td>\n",
              "    </tr>\n",
              "  </tbody>\n",
              "</table>\n",
              "</div>"
            ],
            "text/plain": [
              "    movie_id                                       plot_summary  duration  \\\n",
              "0  tt0105112  Former CIA analyst, Jack Ryan is in England wi...       117   \n",
              "1  tt1204975  Billy (Michael Douglas), Paddy (Robert De Niro...       105   \n",
              "2  tt0243655  The setting is Camp Firewood, the year 1981. I...        97   \n",
              "\n",
              "                genre  rating release_date  genre_num genre_main  \n",
              "0  [Action, Thriller]     6.9   1992-06-05          2     Action  \n",
              "1            [Comedy]     6.6   2013-11-01          1     Comedy  \n",
              "2   [Comedy, Romance]     6.7   2002-04-11          2     Comedy  "
            ]
          },
          "metadata": {
            "tags": []
          },
          "execution_count": 27
        }
      ]
    },
    {
      "cell_type": "code",
      "metadata": {
        "id": "SoL3dW6C8C4R",
        "outputId": "f4cfd6b2-02cd-453d-f8c3-d87f5e325f7f"
      },
      "source": [
        "# rating\n",
        "details_df['rating'].hist();"
      ],
      "execution_count": null,
      "outputs": [
        {
          "output_type": "display_data",
          "data": {
            "image/png": "[encoded data removed]",
            "text/plain": [
              "<Figure size 432x288 with 1 Axes>"
            ]
          },
          "metadata": {
            "tags": []
          }
        }
      ]
    },
    {
      "cell_type": "code",
      "metadata": {
        "id": "pSo1JLG78C4S"
      },
      "source": [
        "# 4.5점 미만의 영화는 제외\n",
        "cond = details_df[(details_df['rating'] < 4.5)].index\n",
        "details_df = details_df.drop(cond)"
      ],
      "execution_count": null,
      "outputs": []
    },
    {
      "cell_type": "code",
      "metadata": {
        "id": "XhFYnq2A8C4S"
      },
      "source": [
        "# release_date: 연도만 남기기\n",
        "details_df['release_year'] = details_df['release_date'].apply(lambda x: x[:4])\n",
        "details_df['release_year'] = details_df['release_year'].astype('int')"
      ],
      "execution_count": null,
      "outputs": []
    },
    {
      "cell_type": "code",
      "metadata": {
        "id": "HvDmFGAv8C4S",
        "outputId": "b0518e9a-cb93-45f8-f607-64cb4a7ae742"
      },
      "source": [
        "rs = details_df['release_year'].value_counts().sort_index()\n",
        "plt.plot(rs.index, rs.values);"
      ],
      "execution_count": null,
      "outputs": [
        {
          "output_type": "display_data",
          "data": {
            "image/png": "[encoded data removed]",
            "text/plain": [
              "<Figure size 432x288 with 1 Axes>"
            ]
          },
          "metadata": {
            "tags": []
          }
        }
      ]
    },
    {
      "cell_type": "code",
      "metadata": {
        "id": "cAis2t9e8C4S",
        "outputId": "f1200e51-e63f-4463-cfdc-4f756c9f5800"
      },
      "source": [
        "rs = details_df[details_df['release_year'] > 1980]['release_year'].value_counts().sort_index()\n",
        "plt.plot(rs.index, rs.values);\n",
        "# 1990년 이후 영화와 그 전 영화 수의 차이가 큼"
      ],
      "execution_count": null,
      "outputs": [
        {
          "output_type": "display_data",
          "data": {
            "image/png": "[encoded data removed]",
            "text/plain": [
              "<Figure size 432x288 with 1 Axes>"
            ]
          },
          "metadata": {
            "tags": []
          }
        }
      ]
    },
    {
      "cell_type": "code",
      "metadata": {
        "id": "5YAOhGrv8C4T"
      },
      "source": [
        "# 1990년 이전 영화는 제외\n",
        "cond = details_df[(details_df['release_year'] < 1990)].index\n",
        "details_df = details_df.drop(cond)"
      ],
      "execution_count": null,
      "outputs": []
    },
    {
      "cell_type": "markdown",
      "metadata": {
        "id": "8IUrMjcY8C4T"
      },
      "source": [
        "- reviews_df"
      ]
    },
    {
      "cell_type": "code",
      "metadata": {
        "id": "-p6aqiSB8C4T",
        "outputId": "880a30cb-4bc8-4bcd-fd82-40ed1fb765f4"
      },
      "source": [
        "# movie_id\n",
        "reviews_df['movie_id'].value_counts(normalize=True)"
      ],
      "execution_count": null,
      "outputs": [
        {
          "output_type": "execute_result",
          "data": {
            "text/plain": [
              "tt0468569    0.008406\n",
              "tt0111161    0.007459\n",
              "tt0167260    0.004752\n",
              "tt0137523    0.004320\n",
              "tt0068646    0.003676\n",
              "               ...   \n",
              "tt0107719    0.000021\n",
              "tt6294822    0.000019\n",
              "tt0104014    0.000009\n",
              "tt0201265    0.000007\n",
              "tt0114142    0.000003\n",
              "Name: movie_id, Length: 1572, dtype: float64"
            ]
          },
          "metadata": {
            "tags": []
          },
          "execution_count": 34
        }
      ]
    },
    {
      "cell_type": "code",
      "metadata": {
        "id": "X0ZlIGgN8C4T",
        "outputId": "fa796698-df4b-4cf9-f126-b69e971ecb8b"
      },
      "source": [
        "# user_id\n",
        "reviews_df['user_id'].value_counts(normalize=True)"
      ],
      "execution_count": null,
      "outputs": [
        {
          "output_type": "execute_result",
          "data": {
            "text/plain": [
              "ur2898520     0.002272\n",
              "ur4248714     0.001781\n",
              "ur0453068     0.001404\n",
              "ur60028700    0.001343\n",
              "ur20552756    0.001315\n",
              "                ...   \n",
              "ur1585093     0.000002\n",
              "ur14664385    0.000002\n",
              "ur3283920     0.000002\n",
              "ur37077095    0.000002\n",
              "ur2462204     0.000002\n",
              "Name: user_id, Length: 263165, dtype: float64"
            ]
          },
          "metadata": {
            "tags": []
          },
          "execution_count": 35
        }
      ]
    },
    {
      "cell_type": "code",
      "metadata": {
        "id": "oJFpDzYb8C4U",
        "outputId": "60bd52da-abb7-4eb2-e494-9001208a5f68"
      },
      "source": [
        "# rating\n",
        "sns.countplot(data=reviews_df, x='rating');"
      ],
      "execution_count": null,
      "outputs": [
        {
          "output_type": "display_data",
          "data": {
            "image/png": "[encoded data removed]",
            "text/plain": [
              "<Figure size 432x288 with 1 Axes>"
            ]
          },
          "metadata": {
            "tags": []
          }
        }
      ]
    },
    {
      "cell_type": "code",
      "metadata": {
        "id": "BpG_j8mS8C4U",
        "outputId": "6507ab00-0bb6-41d4-d1ac-fac58ea3f639"
      },
      "source": [
        "reviews_df['rating'].value_counts(normalize=True).sort_index()"
      ],
      "execution_count": null,
      "outputs": [
        {
          "output_type": "execute_result",
          "data": {
            "text/plain": [
              "1     0.095466\n",
              "2     0.036604\n",
              "3     0.042785\n",
              "4     0.043520\n",
              "5     0.056602\n",
              "6     0.073192\n",
              "7     0.108180\n",
              "8     0.146045\n",
              "9     0.141837\n",
              "10    0.255769\n",
              "Name: rating, dtype: float64"
            ]
          },
          "metadata": {
            "tags": []
          },
          "execution_count": 37
        }
      ]
    },
    {
      "cell_type": "code",
      "metadata": {
        "id": "Bi9dCo9w8C4U",
        "outputId": "5757ba8b-891a-45e3-bf81-1efb5f9f07da"
      },
      "source": [
        "# review_date\n",
        "reviews_df['review_date']"
      ],
      "execution_count": null,
      "outputs": [
        {
          "output_type": "execute_result",
          "data": {
            "text/plain": [
              "0         10 February 2006\n",
              "1         6 September 2000\n",
              "2            3 August 2001\n",
              "3         1 September 2002\n",
              "4              20 May 2004\n",
              "                ...       \n",
              "573908       8 August 1999\n",
              "573909        31 July 1999\n",
              "573910        20 July 1999\n",
              "573911        11 June 1999\n",
              "573912          3 May 1999\n",
              "Name: review_date, Length: 573385, dtype: object"
            ]
          },
          "metadata": {
            "tags": []
          },
          "execution_count": 38
        }
      ]
    },
    {
      "cell_type": "code",
      "metadata": {
        "id": "-4PIAuKn8C4U"
      },
      "source": [
        "# review_date -> 연도만 남기기\n",
        "reviews_df['review_year'] = reviews_df['review_date'].apply(lambda x: x[-4:])\n",
        "reviews_df['review_year'] = reviews_df['review_year'].astype('int')"
      ],
      "execution_count": null,
      "outputs": []
    },
    {
      "cell_type": "code",
      "metadata": {
        "id": "-p-J-8RU8C4V",
        "outputId": "1d167f08-dcd6-4bb3-91a8-23cc2aee2f36"
      },
      "source": [
        "rs = reviews_df['review_year'].value_counts().sort_index()\n",
        "plt.plot(rs.index, rs.values);"
      ],
      "execution_count": null,
      "outputs": [
        {
          "output_type": "display_data",
          "data": {
            "image/png": "[encoded data removed]",
            "text/plain": [
              "<Figure size 432x288 with 1 Axes>"
            ]
          },
          "metadata": {
            "tags": []
          }
        }
      ]
    },
    {
      "cell_type": "code",
      "metadata": {
        "id": "8bYeXZvX8C4V"
      },
      "source": [
        "details_df['release_date'] = pd.to_datetime(details_df['release_date'], infer_datetime_format=True)"
      ],
      "execution_count": null,
      "outputs": []
    },
    {
      "cell_type": "code",
      "metadata": {
        "id": "vX4MTBfL8C4V"
      },
      "source": [
        "reviews_df['review_date'] = pd.to_datetime(reviews_df['review_date'], infer_datetime_format=True)"
      ],
      "execution_count": null,
      "outputs": []
    },
    {
      "cell_type": "markdown",
      "metadata": {
        "id": "AiSGDWwKCM3e"
      },
      "source": [
        "##### 문장 길이 관련"
      ]
    },
    {
      "cell_type": "code",
      "metadata": {
        "colab": {
          "base_uri": "https://localhost:8080/"
        },
        "id": "wcWQ8CK89Rbr",
        "outputId": "8a338242-53d2-4364-cdfd-c7cd02767601"
      },
      "source": [
        "print(details_df['plot_summary'].iloc[1][:100])\n",
        "print(details_df['plot_summary'].iloc[1][-100:])"
      ],
      "execution_count": null,
      "outputs": [
        {
          "output_type": "stream",
          "text": [
            "Billy (Michael Douglas), Paddy (Robert De Niro), Archie (Morgan Freeman) and Sam (Kevin Kline) have \n",
            " rule the Strip, but it's these four who are taking over Vegas.                Written by\n",
            "Production\n"
          ],
          "name": "stdout"
        }
      ]
    },
    {
      "cell_type": "markdown",
      "metadata": {
        "id": "cHaZkaYb8C4W"
      },
      "source": [
        "문서의 마지막 부분에 'Written by ~'는 필요 없는 정보이므로 제거해야 한다."
      ]
    },
    {
      "cell_type": "code",
      "metadata": {
        "id": "8UWR0CLX8C4W",
        "outputId": "6a21d656-592e-4f87-e409-b742f6bd9e81"
      },
      "source": [
        "print(reviews_df['review_text'].iloc[0][:100])\n",
        "print(reviews_df['review_text'].iloc[0][-100:])\n",
        "print()\n",
        "print(reviews_df['review_text'].iloc[1][:100])\n",
        "print(reviews_df['review_text'].iloc[1][-100:])"
      ],
      "execution_count": null,
      "outputs": [
        {
          "output_type": "stream",
          "text": [
            "In its Oscar year, Shawshank Redemption (written and directed by Frank Darabont, after the novella R\n",
            "r? As Andy says, \"It comes down a simple choice, really. Either get busy living, or get busy dying.\"\n",
            "\n",
            "The Shawshank Redemption is without a doubt one of the most brilliant movies I have ever seen. Simil\n",
            " and one of my Top 3 of all time. This movie is a spectacle to move the mind, soul, and heart. 10/10\n"
          ],
          "name": "stdout"
        }
      ]
    },
    {
      "cell_type": "code",
      "metadata": {
        "id": "77DI8-tO8C4X"
      },
      "source": [
        "def del_written(value):\n",
        "    return value.split('        Written by')[0].strip()"
      ],
      "execution_count": null,
      "outputs": []
    },
    {
      "cell_type": "code",
      "metadata": {
        "id": "kgdwcud58C4X"
      },
      "source": [
        "details_df['plot_summary'] = details_df['plot_summary'].apply(del_written)"
      ],
      "execution_count": null,
      "outputs": []
    },
    {
      "cell_type": "code",
      "metadata": {
        "id": "YwLmmSeG8C4X",
        "outputId": "e8b80a9e-fb7c-4340-96ec-1668f63245b0"
      },
      "source": [
        "print(details_df['plot_summary'].iloc[0][:100])\n",
        "print(details_df['plot_summary'].iloc[0][-100:])\n",
        "print()\n",
        "print(details_df['plot_summary'].iloc[1][:100])\n",
        "print(details_df['plot_summary'].iloc[1][-100:])"
      ],
      "execution_count": null,
      "outputs": [
        {
          "output_type": "stream",
          "text": [
            "Former CIA analyst, Jack Ryan is in England with his family on vacation when he suddenly witnesses a\n",
            "s when Jack decides to rejoin the CIA, and they try to find the man before he makes another attempt.\n",
            "\n",
            "Billy (Michael Douglas), Paddy (Robert De Niro), Archie (Morgan Freeman) and Sam (Kevin Kline) have \n",
            "he Sands and Cirque du Soleil may now rule the Strip, but it's these four who are taking over Vegas.\n"
          ],
          "name": "stdout"
        }
      ]
    },
    {
      "cell_type": "code",
      "metadata": {
        "id": "wOCthITpfdXT"
      },
      "source": [
        "details_df['plot_summary_len'] = details_df['plot_summary'].apply(lambda x: len(x))\n",
        "reviews_df['review_text_len'] = reviews_df['review_text'].apply(lambda x: len(x))"
      ],
      "execution_count": null,
      "outputs": []
    },
    {
      "cell_type": "code",
      "metadata": {
        "colab": {
          "base_uri": "https://localhost:8080/",
          "height": 632
        },
        "id": "Mr1JuItof4MC",
        "outputId": "5f968dfa-ac42-4074-ce05-57c1a3bcd7c0"
      },
      "source": [
        "plt.figure(figsize=(12, 12))\n",
        "sns.set_theme(style=\"whitegrid\")\n",
        "\n",
        "plt.subplot(221)\n",
        "sns.histplot(data=details_df, x='plot_summary_len')\n",
        "\n",
        "plt.subplot(222)\n",
        "sns.histplot(data=reviews_df, x='review_text_len')\n",
        "\n",
        "plt.subplot(223)\n",
        "sns.boxplot(data=details_df, x='plot_summary_len')\n",
        "\n",
        "plt.subplot(224)\n",
        "sns.boxplot(data=reviews_df, x='review_text_len');"
      ],
      "execution_count": null,
      "outputs": [
        {
          "output_type": "display_data",
          "data": {
            "image/png": "[encoded data removed]",
            "text/plain": [
              "<Figure size 864x864 with 4 Axes>"
            ]
          },
          "metadata": {
            "tags": []
          }
        }
      ]
    },
    {
      "cell_type": "code",
      "metadata": {
        "id": "LhSbiK8Ri49b"
      },
      "source": [
        "details_df = details_df[details_df['plot_summary_len'] < 1000]\n",
        "reviews_df = reviews_df[reviews_df['review_text_len'] < 2200]"
      ],
      "execution_count": null,
      "outputs": []
    },
    {
      "cell_type": "code",
      "metadata": {
        "colab": {
          "base_uri": "https://localhost:8080/",
          "height": 632
        },
        "id": "GZ_L1_BJB_dr",
        "outputId": "0148a8bb-8c45-4d7c-cc86-f63a3ef5380c"
      },
      "source": [
        "plt.figure(figsize=(12, 12))\n",
        "sns.set_theme(style=\"whitegrid\")\n",
        "\n",
        "plt.subplot(221)\n",
        "sns.histplot(data=details_df, x='plot_summary_len')\n",
        "\n",
        "plt.subplot(222)\n",
        "sns.histplot(data=reviews_df, x='review_text_len')\n",
        "\n",
        "plt.subplot(223)\n",
        "sns.boxplot(data=details_df, x='plot_summary_len')\n",
        "\n",
        "plt.subplot(224)\n",
        "sns.boxplot(data=reviews_df, x='review_text_len');"
      ],
      "execution_count": null,
      "outputs": [
        {
          "output_type": "display_data",
          "data": {
            "image/png": "[encoded data removed]",
            "text/plain": [
              "<Figure size 864x864 with 4 Axes>"
            ]
          },
          "metadata": {
            "tags": []
          }
        }
      ]
    },
    {
      "cell_type": "code",
      "metadata": {
        "id": "KDKl7eEI8C4Z",
        "outputId": "7535e14e-9e90-4fab-f022-d1926131970f"
      },
      "source": [
        "# feature 정리\n",
        "details_df = details_df.drop(['genre'], axis=1)\n",
        "details_df.columns = ['movie_id', 'summary', 'duration', 'score_total', 'release_date', 'genre_num', 'genre_main', 'release_year', 'summary_len']\n",
        "\n",
        "details_df.head(3)"
      ],
      "execution_count": null,
      "outputs": [
        {
          "output_type": "execute_result",
          "data": {
            "text/html": [
              "<div>\n",
              "<style scoped>\n",
              "    .dataframe tbody tr th:only-of-type {\n",
              "        vertical-align: middle;\n",
              "    }\n",
              "\n",
              "    .dataframe tbody tr th {\n",
              "        vertical-align: top;\n",
              "    }\n",
              "\n",
              "    .dataframe thead th {\n",
              "        text-align: right;\n",
              "    }\n",
              "</style>\n",
              "<table border=\"1\" class=\"dataframe\">\n",
              "  <thead>\n",
              "    <tr style=\"text-align: right;\">\n",
              "      <th></th>\n",
              "      <th>movie_id</th>\n",
              "      <th>summary</th>\n",
              "      <th>duration</th>\n",
              "      <th>score_total</th>\n",
              "      <th>release_date</th>\n",
              "      <th>genre_num</th>\n",
              "      <th>genre_main</th>\n",
              "      <th>release_year</th>\n",
              "      <th>summary_len</th>\n",
              "    </tr>\n",
              "  </thead>\n",
              "  <tbody>\n",
              "    <tr>\n",
              "      <th>0</th>\n",
              "      <td>tt0105112</td>\n",
              "      <td>Former CIA analyst, Jack Ryan is in England wi...</td>\n",
              "      <td>117</td>\n",
              "      <td>6.9</td>\n",
              "      <td>1992-06-05</td>\n",
              "      <td>2</td>\n",
              "      <td>Action</td>\n",
              "      <td>1992</td>\n",
              "      <td>990</td>\n",
              "    </tr>\n",
              "    <tr>\n",
              "      <th>1</th>\n",
              "      <td>tt1204975</td>\n",
              "      <td>Billy (Michael Douglas), Paddy (Robert De Niro...</td>\n",
              "      <td>105</td>\n",
              "      <td>6.6</td>\n",
              "      <td>2013-11-01</td>\n",
              "      <td>1</td>\n",
              "      <td>Comedy</td>\n",
              "      <td>2013</td>\n",
              "      <td>620</td>\n",
              "    </tr>\n",
              "    <tr>\n",
              "      <th>2</th>\n",
              "      <td>tt0243655</td>\n",
              "      <td>The setting is Camp Firewood, the year 1981. I...</td>\n",
              "      <td>97</td>\n",
              "      <td>6.7</td>\n",
              "      <td>2002-04-11</td>\n",
              "      <td>2</td>\n",
              "      <td>Comedy</td>\n",
              "      <td>2002</td>\n",
              "      <td>626</td>\n",
              "    </tr>\n",
              "  </tbody>\n",
              "</table>\n",
              "</div>"
            ],
            "text/plain": [
              "    movie_id                                            summary  duration  \\\n",
              "0  tt0105112  Former CIA analyst, Jack Ryan is in England wi...       117   \n",
              "1  tt1204975  Billy (Michael Douglas), Paddy (Robert De Niro...       105   \n",
              "2  tt0243655  The setting is Camp Firewood, the year 1981. I...        97   \n",
              "\n",
              "   score_total release_date  genre_num genre_main  release_year  summary_len  \n",
              "0          6.9   1992-06-05          2     Action          1992          990  \n",
              "1          6.6   2013-11-01          1     Comedy          2013          620  \n",
              "2          6.7   2002-04-11          2     Comedy          2002          626  "
            ]
          },
          "metadata": {
            "tags": []
          },
          "execution_count": 54
        }
      ]
    },
    {
      "cell_type": "code",
      "metadata": {
        "colab": {
          "base_uri": "https://localhost:8080/",
          "height": 142
        },
        "id": "gGyZAMk0dY-d",
        "outputId": "1ea8833d-033d-44ef-93c0-47d0e26253b6"
      },
      "source": [
        "reviews_df.columns = ['review_date', 'movie_id', 'user_id', 'is_spoiler', 'review', 'score_by_user', 'review_year', 'review_len']\n",
        "\n",
        "reviews_df.head(3)"
      ],
      "execution_count": null,
      "outputs": [
        {
          "output_type": "execute_result",
          "data": {
            "text/html": [
              "<div>\n",
              "<style scoped>\n",
              "    .dataframe tbody tr th:only-of-type {\n",
              "        vertical-align: middle;\n",
              "    }\n",
              "\n",
              "    .dataframe tbody tr th {\n",
              "        vertical-align: top;\n",
              "    }\n",
              "\n",
              "    .dataframe thead th {\n",
              "        text-align: right;\n",
              "    }\n",
              "</style>\n",
              "<table border=\"1\" class=\"dataframe\">\n",
              "  <thead>\n",
              "    <tr style=\"text-align: right;\">\n",
              "      <th></th>\n",
              "      <th>review_date</th>\n",
              "      <th>movie_id</th>\n",
              "      <th>user_id</th>\n",
              "      <th>is_spoiler</th>\n",
              "      <th>review</th>\n",
              "      <th>score_by_user</th>\n",
              "      <th>review_year</th>\n",
              "      <th>review_len</th>\n",
              "    </tr>\n",
              "  </thead>\n",
              "  <tbody>\n",
              "    <tr>\n",
              "      <th>1</th>\n",
              "      <td>2000-09-06</td>\n",
              "      <td>tt0111161</td>\n",
              "      <td>ur0842118</td>\n",
              "      <td>True</td>\n",
              "      <td>The Shawshank Redemption is without a doubt on...</td>\n",
              "      <td>10</td>\n",
              "      <td>2000</td>\n",
              "      <td>1218</td>\n",
              "    </tr>\n",
              "    <tr>\n",
              "      <th>2</th>\n",
              "      <td>2001-08-03</td>\n",
              "      <td>tt0111161</td>\n",
              "      <td>ur1285640</td>\n",
              "      <td>True</td>\n",
              "      <td>I believe that this film is the best story eve...</td>\n",
              "      <td>8</td>\n",
              "      <td>2001</td>\n",
              "      <td>1470</td>\n",
              "    </tr>\n",
              "    <tr>\n",
              "      <th>6</th>\n",
              "      <td>2005-10-09</td>\n",
              "      <td>tt0111161</td>\n",
              "      <td>ur6574726</td>\n",
              "      <td>True</td>\n",
              "      <td>I have been a fan of this movie for a long tim...</td>\n",
              "      <td>9</td>\n",
              "      <td>2005</td>\n",
              "      <td>900</td>\n",
              "    </tr>\n",
              "  </tbody>\n",
              "</table>\n",
              "</div>"
            ],
            "text/plain": [
              "  review_date   movie_id    user_id  is_spoiler  \\\n",
              "1  2000-09-06  tt0111161  ur0842118        True   \n",
              "2  2001-08-03  tt0111161  ur1285640        True   \n",
              "6  2005-10-09  tt0111161  ur6574726        True   \n",
              "\n",
              "                                              review  score_by_user  \\\n",
              "1  The Shawshank Redemption is without a doubt on...             10   \n",
              "2  I believe that this film is the best story eve...              8   \n",
              "6  I have been a fan of this movie for a long tim...              9   \n",
              "\n",
              "   review_year  review_len  \n",
              "1         2000        1218  \n",
              "2         2001        1470  \n",
              "6         2005         900  "
            ]
          },
          "metadata": {
            "tags": []
          },
          "execution_count": 56
        }
      ]
    },
    {
      "cell_type": "markdown",
      "metadata": {
        "id": "LQ73uzGdCI8v"
      },
      "source": [
        "##### 문자 관련"
      ]
    },
    {
      "cell_type": "code",
      "metadata": {
        "id": "kywFKq1pidgv"
      },
      "source": [
        "import re"
      ],
      "execution_count": null,
      "outputs": []
    },
    {
      "cell_type": "code",
      "metadata": {
        "colab": {
          "base_uri": "https://localhost:8080/",
          "height": 256
        },
        "id": "xOGUh-AhECyy",
        "outputId": "f749578b-0c89-48a0-a19b-27d8483def6a"
      },
      "source": [
        "reviews_df['review'].iloc[0]"
      ],
      "execution_count": null,
      "outputs": [
        {
          "output_type": "execute_result",
          "data": {
            "text/plain": [
              "'The Shawshank Redemption is without a doubt one of the most brilliant movies I have ever seen. Similar to The Green Mile in many respects (and better than it in almost all of them), these two movies have shown us that Stephen King is a master not only of horror but also of prose that shakes the soul and moves the heart. The plot is average, but King did great things with it in his novella that are only furthered by the direction, and the acting is so top-rate it\\'s almost scary.Tim Robbins plays Andy Dufrane, wrongly imprisoned for 20 years for the murder of his wife. The story focuses on Andy\\'s relationship with \"Red\" Redding (Morgan Freeman, in probably his best role) and his attempts to escape from Shawshank. Bob Gunton is positively evil and frightening as Warden Norton, and there are great performances and cameos all around; the most prominent one being Gil Bellows (late as Billy of Ally McBeal) as Tommy, a fellow inmate of Andy\\'s who suffers under the iron will of Norton.If you haven\\'t seen this movie, GO AND RENT IT NOW. You will not be disappointed. It is positively the best movie of the \\'90\\'s, and one of my Top 3 of all time. This movie is a spectacle to move the mind, soul, and heart. 10/10'"
            ]
          },
          "metadata": {
            "tags": []
          },
          "execution_count": 58
        }
      ]
    },
    {
      "cell_type": "code",
      "metadata": {
        "id": "tvuteyyFE07t"
      },
      "source": [
        "# 모두 소문자로\n",
        "details_df['summary'] = details_df['summary'].apply(lambda x: x.lower())\n",
        "reviews_df['review'] = reviews_df['review'].apply(lambda x: x.lower())"
      ],
      "execution_count": null,
      "outputs": []
    },
    {
      "cell_type": "code",
      "metadata": {
        "id": "PjWdgCD8heVt"
      },
      "source": [
        "# 전처리 함수 생성\n",
        "# 영어, 숫자 제외 모두 ''으로, i는 I로, 2개 이상의 공백 제거\n",
        "def pre_processing(value):\n",
        "    value = re.sub(r\"[^a-zA-Z0-9 ']\", '', value)\n",
        "    value = value.replace('i ', 'I ')\n",
        "    value = value.replace(\"i'\", \"I'\")\n",
        "    ' '.join(value.split())\n",
        "    return value"
      ],
      "execution_count": null,
      "outputs": []
    },
    {
      "cell_type": "code",
      "metadata": {
        "id": "7OIeZJ8wQA-7"
      },
      "source": [
        "details_df['summary'] = details_df['summary'].apply(pre_processing)\n",
        "reviews_df['review'] = reviews_df['review'].apply(pre_processing)"
      ],
      "execution_count": null,
      "outputs": []
    },
    {
      "cell_type": "code",
      "metadata": {
        "colab": {
          "base_uri": "https://localhost:8080/",
          "height": 256
        },
        "id": "UqkoVqpxQFpb",
        "outputId": "9a2d4fd2-52b5-4ed6-80cd-04abe9b89b1d"
      },
      "source": [
        "reviews_df['review'].iloc[0]"
      ],
      "execution_count": null,
      "outputs": [
        {
          "output_type": "execute_result",
          "data": {
            "text/plain": [
              "\"the shawshank redemption is without a doubt one of the most brilliant movies I have ever seen similar to the green mile in many respects and better than it in almost all of them these two movies have shown us that stephen king is a master not only of horror but also of prose that shakes the soul and moves the heart the plot is average but king did great things with it in his novella that are only furthered by the direction and the acting is so toprate it's almost scarytim robbins plays andy dufrane wrongly imprisoned for 20 years for the murder of his wife the story focuses on andy's relationship with red redding morgan freeman in probably his best role and his attempts to escape from shawshank bob gunton is positively evil and frightening as warden norton and there are great performances and cameos all around the most prominent one being gil bellows late as billy of ally mcbeal as tommy a fellow inmate of andy's who suffers under the iron will of nortonif you haven't seen this movie go and rent it now you will not be disappointed it is positively the best movie of the '90's and one of my top 3 of all time this movie is a spectacle to move the mind soul and heart 1010\""
            ]
          },
          "metadata": {
            "tags": []
          },
          "execution_count": 62
        }
      ]
    },
    {
      "cell_type": "markdown",
      "metadata": {
        "id": "EANB1a6qaIu9"
      },
      "source": [
        "##### 데이터 프레임 merge"
      ]
    },
    {
      "cell_type": "code",
      "metadata": {
        "colab": {
          "base_uri": "https://localhost:8080/",
          "height": 210
        },
        "id": "CIRXf1pWZ5NT",
        "outputId": "40c189dd-1d2f-4e66-fd66-2b580dcf7d37"
      },
      "source": [
        "df = pd.merge(details_df, reviews_df, on='movie_id', how='inner')\n",
        "\n",
        "print(df.shape)\n",
        "df.head(3)"
      ],
      "execution_count": null,
      "outputs": [
        {
          "output_type": "stream",
          "text": [
            "(382868, 16)\n"
          ],
          "name": "stdout"
        },
        {
          "output_type": "execute_result",
          "data": {
            "text/html": [
              "<div>\n",
              "<style scoped>\n",
              "    .dataframe tbody tr th:only-of-type {\n",
              "        vertical-align: middle;\n",
              "    }\n",
              "\n",
              "    .dataframe tbody tr th {\n",
              "        vertical-align: top;\n",
              "    }\n",
              "\n",
              "    .dataframe thead th {\n",
              "        text-align: right;\n",
              "    }\n",
              "</style>\n",
              "<table border=\"1\" class=\"dataframe\">\n",
              "  <thead>\n",
              "    <tr style=\"text-align: right;\">\n",
              "      <th></th>\n",
              "      <th>movie_id</th>\n",
              "      <th>summary</th>\n",
              "      <th>duration</th>\n",
              "      <th>score_total</th>\n",
              "      <th>release_date</th>\n",
              "      <th>genre_num</th>\n",
              "      <th>genre_main</th>\n",
              "      <th>release_year</th>\n",
              "      <th>summary_len</th>\n",
              "      <th>review_date</th>\n",
              "      <th>user_id</th>\n",
              "      <th>is_spoiler</th>\n",
              "      <th>review</th>\n",
              "      <th>score_by_user</th>\n",
              "      <th>review_year</th>\n",
              "      <th>review_len</th>\n",
              "    </tr>\n",
              "  </thead>\n",
              "  <tbody>\n",
              "    <tr>\n",
              "      <th>0</th>\n",
              "      <td>tt0105112</td>\n",
              "      <td>former cia analyst jack ryan is in england wit...</td>\n",
              "      <td>117</td>\n",
              "      <td>6.9</td>\n",
              "      <td>1992-06-05</td>\n",
              "      <td>2</td>\n",
              "      <td>Action</td>\n",
              "      <td>1992</td>\n",
              "      <td>990</td>\n",
              "      <td>2008-03-05</td>\n",
              "      <td>ur16517420</td>\n",
              "      <td>True</td>\n",
              "      <td>the second tom clancy novel made into a film '...</td>\n",
              "      <td>6</td>\n",
              "      <td>2008</td>\n",
              "      <td>2004</td>\n",
              "    </tr>\n",
              "    <tr>\n",
              "      <th>1</th>\n",
              "      <td>tt0105112</td>\n",
              "      <td>former cia analyst jack ryan is in england wit...</td>\n",
              "      <td>117</td>\n",
              "      <td>6.9</td>\n",
              "      <td>1992-06-05</td>\n",
              "      <td>2</td>\n",
              "      <td>Action</td>\n",
              "      <td>1992</td>\n",
              "      <td>990</td>\n",
              "      <td>2007-10-15</td>\n",
              "      <td>ur13887584</td>\n",
              "      <td>True</td>\n",
              "      <td>the second in what looks like becoming the 'ja...</td>\n",
              "      <td>7</td>\n",
              "      <td>2007</td>\n",
              "      <td>665</td>\n",
              "    </tr>\n",
              "    <tr>\n",
              "      <th>2</th>\n",
              "      <td>tt0105112</td>\n",
              "      <td>former cia analyst jack ryan is in england wit...</td>\n",
              "      <td>117</td>\n",
              "      <td>6.9</td>\n",
              "      <td>1992-06-05</td>\n",
              "      <td>2</td>\n",
              "      <td>Action</td>\n",
              "      <td>1992</td>\n",
              "      <td>990</td>\n",
              "      <td>2013-09-16</td>\n",
              "      <td>ur2403537</td>\n",
              "      <td>True</td>\n",
              "      <td>I was not a fan of the hunt for red october it...</td>\n",
              "      <td>8</td>\n",
              "      <td>2013</td>\n",
              "      <td>1757</td>\n",
              "    </tr>\n",
              "  </tbody>\n",
              "</table>\n",
              "</div>"
            ],
            "text/plain": [
              "    movie_id                                            summary  duration  \\\n",
              "0  tt0105112  former cia analyst jack ryan is in england wit...       117   \n",
              "1  tt0105112  former cia analyst jack ryan is in england wit...       117   \n",
              "2  tt0105112  former cia analyst jack ryan is in england wit...       117   \n",
              "\n",
              "   score_total release_date  genre_num genre_main  release_year  summary_len  \\\n",
              "0          6.9   1992-06-05          2     Action          1992          990   \n",
              "1          6.9   1992-06-05          2     Action          1992          990   \n",
              "2          6.9   1992-06-05          2     Action          1992          990   \n",
              "\n",
              "  review_date     user_id  is_spoiler  \\\n",
              "0  2008-03-05  ur16517420        True   \n",
              "1  2007-10-15  ur13887584        True   \n",
              "2  2013-09-16   ur2403537        True   \n",
              "\n",
              "                                              review  score_by_user  \\\n",
              "0  the second tom clancy novel made into a film '...              6   \n",
              "1  the second in what looks like becoming the 'ja...              7   \n",
              "2  I was not a fan of the hunt for red october it...              8   \n",
              "\n",
              "   review_year  review_len  \n",
              "0         2008        2004  \n",
              "1         2007         665  \n",
              "2         2013        1757  "
            ]
          },
          "metadata": {
            "tags": []
          },
          "execution_count": 64
        }
      ]
    },
    {
      "cell_type": "code",
      "metadata": {
        "id": "yJZdIVVY8C4b"
      },
      "source": [
        "df['review_before_release'] = df.apply(lambda x: 1 if x['review_date'] < x['release_date'] else 0, axis=1)"
      ],
      "execution_count": null,
      "outputs": []
    },
    {
      "cell_type": "code",
      "metadata": {
        "id": "l8K4KnUv8C4c"
      },
      "source": [
        "df['year_dif'] = df['review_year'] - df['release_year']"
      ],
      "execution_count": null,
      "outputs": []
    },
    {
      "cell_type": "code",
      "metadata": {
        "id": "wW1AvuCp8C4c",
        "outputId": "b5e2f204-76fc-4be4-be5f-95c9b7015ac7"
      },
      "source": [
        "df.head(3)"
      ],
      "execution_count": null,
      "outputs": [
        {
          "output_type": "execute_result",
          "data": {
            "text/html": [
              "<div>\n",
              "<style scoped>\n",
              "    .dataframe tbody tr th:only-of-type {\n",
              "        vertical-align: middle;\n",
              "    }\n",
              "\n",
              "    .dataframe tbody tr th {\n",
              "        vertical-align: top;\n",
              "    }\n",
              "\n",
              "    .dataframe thead th {\n",
              "        text-align: right;\n",
              "    }\n",
              "</style>\n",
              "<table border=\"1\" class=\"dataframe\">\n",
              "  <thead>\n",
              "    <tr style=\"text-align: right;\">\n",
              "      <th></th>\n",
              "      <th>movie_id</th>\n",
              "      <th>summary</th>\n",
              "      <th>duration</th>\n",
              "      <th>score_total</th>\n",
              "      <th>release_date</th>\n",
              "      <th>genre_num</th>\n",
              "      <th>genre_main</th>\n",
              "      <th>release_year</th>\n",
              "      <th>summary_len</th>\n",
              "      <th>review_date</th>\n",
              "      <th>user_id</th>\n",
              "      <th>is_spoiler</th>\n",
              "      <th>review</th>\n",
              "      <th>score_by_user</th>\n",
              "      <th>review_year</th>\n",
              "      <th>review_len</th>\n",
              "      <th>review_before_release</th>\n",
              "      <th>year_dif</th>\n",
              "    </tr>\n",
              "  </thead>\n",
              "  <tbody>\n",
              "    <tr>\n",
              "      <th>0</th>\n",
              "      <td>tt0105112</td>\n",
              "      <td>former cia analyst jack ryan is in england wit...</td>\n",
              "      <td>117</td>\n",
              "      <td>6.9</td>\n",
              "      <td>1992-06-05</td>\n",
              "      <td>2</td>\n",
              "      <td>Action</td>\n",
              "      <td>1992</td>\n",
              "      <td>990</td>\n",
              "      <td>2008-03-05</td>\n",
              "      <td>ur16517420</td>\n",
              "      <td>True</td>\n",
              "      <td>the second tom clancy novel made into a film '...</td>\n",
              "      <td>6</td>\n",
              "      <td>2008</td>\n",
              "      <td>2004</td>\n",
              "      <td>0</td>\n",
              "      <td>16</td>\n",
              "    </tr>\n",
              "    <tr>\n",
              "      <th>1</th>\n",
              "      <td>tt0105112</td>\n",
              "      <td>former cia analyst jack ryan is in england wit...</td>\n",
              "      <td>117</td>\n",
              "      <td>6.9</td>\n",
              "      <td>1992-06-05</td>\n",
              "      <td>2</td>\n",
              "      <td>Action</td>\n",
              "      <td>1992</td>\n",
              "      <td>990</td>\n",
              "      <td>2007-10-15</td>\n",
              "      <td>ur13887584</td>\n",
              "      <td>True</td>\n",
              "      <td>the second in what looks like becoming the 'ja...</td>\n",
              "      <td>7</td>\n",
              "      <td>2007</td>\n",
              "      <td>665</td>\n",
              "      <td>0</td>\n",
              "      <td>15</td>\n",
              "    </tr>\n",
              "    <tr>\n",
              "      <th>2</th>\n",
              "      <td>tt0105112</td>\n",
              "      <td>former cia analyst jack ryan is in england wit...</td>\n",
              "      <td>117</td>\n",
              "      <td>6.9</td>\n",
              "      <td>1992-06-05</td>\n",
              "      <td>2</td>\n",
              "      <td>Action</td>\n",
              "      <td>1992</td>\n",
              "      <td>990</td>\n",
              "      <td>2013-09-16</td>\n",
              "      <td>ur2403537</td>\n",
              "      <td>True</td>\n",
              "      <td>I was not a fan of the hunt for red october it...</td>\n",
              "      <td>8</td>\n",
              "      <td>2013</td>\n",
              "      <td>1757</td>\n",
              "      <td>0</td>\n",
              "      <td>21</td>\n",
              "    </tr>\n",
              "  </tbody>\n",
              "</table>\n",
              "</div>"
            ],
            "text/plain": [
              "    movie_id                                            summary  duration  \\\n",
              "0  tt0105112  former cia analyst jack ryan is in england wit...       117   \n",
              "1  tt0105112  former cia analyst jack ryan is in england wit...       117   \n",
              "2  tt0105112  former cia analyst jack ryan is in england wit...       117   \n",
              "\n",
              "   score_total release_date  genre_num genre_main  release_year  summary_len  \\\n",
              "0          6.9   1992-06-05          2     Action          1992          990   \n",
              "1          6.9   1992-06-05          2     Action          1992          990   \n",
              "2          6.9   1992-06-05          2     Action          1992          990   \n",
              "\n",
              "  review_date     user_id  is_spoiler  \\\n",
              "0  2008-03-05  ur16517420        True   \n",
              "1  2007-10-15  ur13887584        True   \n",
              "2  2013-09-16   ur2403537        True   \n",
              "\n",
              "                                              review  score_by_user  \\\n",
              "0  the second tom clancy novel made into a film '...              6   \n",
              "1  the second in what looks like becoming the 'ja...              7   \n",
              "2  I was not a fan of the hunt for red october it...              8   \n",
              "\n",
              "   review_year  review_len  review_before_release  year_dif  \n",
              "0         2008        2004                      0        16  \n",
              "1         2007         665                      0        15  \n",
              "2         2013        1757                      0        21  "
            ]
          },
          "metadata": {
            "tags": []
          },
          "execution_count": 67
        }
      ]
    },
    {
      "cell_type": "code",
      "metadata": {
        "id": "BYt_9KXA8C4c"
      },
      "source": [
        "df = df.drop(['release_date', 'review_date'], axis=1)"
      ],
      "execution_count": null,
      "outputs": []
    },
    {
      "cell_type": "code",
      "metadata": {
        "id": "MNHrOZLX8C4c",
        "outputId": "9c32221f-0eb7-42da-ccb2-b6eb6faf71bf"
      },
      "source": [
        "df.head(3)"
      ],
      "execution_count": null,
      "outputs": [
        {
          "output_type": "execute_result",
          "data": {
            "text/html": [
              "<div>\n",
              "<style scoped>\n",
              "    .dataframe tbody tr th:only-of-type {\n",
              "        vertical-align: middle;\n",
              "    }\n",
              "\n",
              "    .dataframe tbody tr th {\n",
              "        vertical-align: top;\n",
              "    }\n",
              "\n",
              "    .dataframe thead th {\n",
              "        text-align: right;\n",
              "    }\n",
              "</style>\n",
              "<table border=\"1\" class=\"dataframe\">\n",
              "  <thead>\n",
              "    <tr style=\"text-align: right;\">\n",
              "      <th></th>\n",
              "      <th>movie_id</th>\n",
              "      <th>summary</th>\n",
              "      <th>duration</th>\n",
              "      <th>score_total</th>\n",
              "      <th>genre_num</th>\n",
              "      <th>genre_main</th>\n",
              "      <th>release_year</th>\n",
              "      <th>summary_len</th>\n",
              "      <th>user_id</th>\n",
              "      <th>is_spoiler</th>\n",
              "      <th>review</th>\n",
              "      <th>score_by_user</th>\n",
              "      <th>review_year</th>\n",
              "      <th>review_len</th>\n",
              "      <th>review_before_release</th>\n",
              "      <th>year_dif</th>\n",
              "    </tr>\n",
              "  </thead>\n",
              "  <tbody>\n",
              "    <tr>\n",
              "      <th>0</th>\n",
              "      <td>tt0105112</td>\n",
              "      <td>former cia analyst jack ryan is in england wit...</td>\n",
              "      <td>117</td>\n",
              "      <td>6.9</td>\n",
              "      <td>2</td>\n",
              "      <td>Action</td>\n",
              "      <td>1992</td>\n",
              "      <td>990</td>\n",
              "      <td>ur16517420</td>\n",
              "      <td>True</td>\n",
              "      <td>the second tom clancy novel made into a film '...</td>\n",
              "      <td>6</td>\n",
              "      <td>2008</td>\n",
              "      <td>2004</td>\n",
              "      <td>0</td>\n",
              "      <td>16</td>\n",
              "    </tr>\n",
              "    <tr>\n",
              "      <th>1</th>\n",
              "      <td>tt0105112</td>\n",
              "      <td>former cia analyst jack ryan is in england wit...</td>\n",
              "      <td>117</td>\n",
              "      <td>6.9</td>\n",
              "      <td>2</td>\n",
              "      <td>Action</td>\n",
              "      <td>1992</td>\n",
              "      <td>990</td>\n",
              "      <td>ur13887584</td>\n",
              "      <td>True</td>\n",
              "      <td>the second in what looks like becoming the 'ja...</td>\n",
              "      <td>7</td>\n",
              "      <td>2007</td>\n",
              "      <td>665</td>\n",
              "      <td>0</td>\n",
              "      <td>15</td>\n",
              "    </tr>\n",
              "    <tr>\n",
              "      <th>2</th>\n",
              "      <td>tt0105112</td>\n",
              "      <td>former cia analyst jack ryan is in england wit...</td>\n",
              "      <td>117</td>\n",
              "      <td>6.9</td>\n",
              "      <td>2</td>\n",
              "      <td>Action</td>\n",
              "      <td>1992</td>\n",
              "      <td>990</td>\n",
              "      <td>ur2403537</td>\n",
              "      <td>True</td>\n",
              "      <td>I was not a fan of the hunt for red october it...</td>\n",
              "      <td>8</td>\n",
              "      <td>2013</td>\n",
              "      <td>1757</td>\n",
              "      <td>0</td>\n",
              "      <td>21</td>\n",
              "    </tr>\n",
              "  </tbody>\n",
              "</table>\n",
              "</div>"
            ],
            "text/plain": [
              "    movie_id                                            summary  duration  \\\n",
              "0  tt0105112  former cia analyst jack ryan is in england wit...       117   \n",
              "1  tt0105112  former cia analyst jack ryan is in england wit...       117   \n",
              "2  tt0105112  former cia analyst jack ryan is in england wit...       117   \n",
              "\n",
              "   score_total  genre_num genre_main  release_year  summary_len     user_id  \\\n",
              "0          6.9          2     Action          1992          990  ur16517420   \n",
              "1          6.9          2     Action          1992          990  ur13887584   \n",
              "2          6.9          2     Action          1992          990   ur2403537   \n",
              "\n",
              "   is_spoiler                                             review  \\\n",
              "0        True  the second tom clancy novel made into a film '...   \n",
              "1        True  the second in what looks like becoming the 'ja...   \n",
              "2        True  I was not a fan of the hunt for red october it...   \n",
              "\n",
              "   score_by_user  review_year  review_len  review_before_release  year_dif  \n",
              "0              6         2008        2004                      0        16  \n",
              "1              7         2007         665                      0        15  \n",
              "2              8         2013        1757                      0        21  "
            ]
          },
          "metadata": {
            "tags": []
          },
          "execution_count": 69
        }
      ]
    },
    {
      "cell_type": "markdown",
      "metadata": {
        "id": "bO1CiUByd2r7"
      },
      "source": [
        "### 2) 타겟 분포 확인"
      ]
    },
    {
      "cell_type": "code",
      "metadata": {
        "colab": {
          "base_uri": "https://localhost:8080/"
        },
        "id": "SF00o4pvciaB",
        "outputId": "92a0f35e-9f81-405a-d9e8-4467201f19c3"
      },
      "source": [
        "# 타겟 비율 확인\n",
        "df['is_spoiler'].value_counts(normalize=True)"
      ],
      "execution_count": null,
      "outputs": [
        {
          "output_type": "execute_result",
          "data": {
            "text/plain": [
              "False    0.769317\n",
              "True     0.230683\n",
              "Name: is_spoiler, dtype: float64"
            ]
          },
          "metadata": {
            "tags": []
          },
          "execution_count": 70
        }
      ]
    },
    {
      "cell_type": "markdown",
      "metadata": {
        "id": "w-7reUt8eEe5"
      },
      "source": [
        "스포를 한 댓글의 비율이 훨씬 적다."
      ]
    },
    {
      "cell_type": "code",
      "metadata": {
        "colab": {
          "base_uri": "https://localhost:8080/"
        },
        "id": "FXRrxi90eBkR",
        "outputId": "db34ff7f-c7c9-46bb-af5a-792155b3b053"
      },
      "source": [
        "df['is_spoiler'] = df['is_spoiler'].apply(lambda x: 1 if x == True else 0)\n",
        "df['is_spoiler'].value_counts(normalize=True)"
      ],
      "execution_count": null,
      "outputs": [
        {
          "output_type": "execute_result",
          "data": {
            "text/plain": [
              "0    0.769317\n",
              "1    0.230683\n",
              "Name: is_spoiler, dtype: float64"
            ]
          },
          "metadata": {
            "tags": []
          },
          "execution_count": 71
        }
      ]
    },
    {
      "cell_type": "code",
      "metadata": {
        "colab": {
          "base_uri": "https://localhost:8080/",
          "height": 285
        },
        "id": "sEeIgrkTcO8w",
        "outputId": "c0cec9ae-d126-4c31-a0b4-c1bd024a0dee"
      },
      "source": [
        "# 타겟별 문장 길이 분포\n",
        "sns.histplot(data=df, x='review_len', hue='is_spoiler');"
      ],
      "execution_count": null,
      "outputs": [
        {
          "output_type": "display_data",
          "data": {
            "image/png": "[encoded data removed]",
            "text/plain": [
              "<Figure size 432x288 with 1 Axes>"
            ]
          },
          "metadata": {
            "tags": []
          }
        }
      ]
    },
    {
      "cell_type": "markdown",
      "metadata": {
        "id": "2LuPOEG4drgA"
      },
      "source": [
        "스포일러 리뷰와 그렇지 않은 리뷰의 문장 길이 분포는 별 차이가 없다. (문장 길이만으로는 스포일러와 스포일러가 아닌 리뷰를 구별할 수 없다.)"
      ]
    },
    {
      "cell_type": "markdown",
      "metadata": {
        "id": "M6bo-nZ_fZ3S"
      },
      "source": [
        "### 3) 토큰화"
      ]
    },
    {
      "cell_type": "code",
      "metadata": {
        "id": "BEj-COAn8C4e"
      },
      "source": [
        "import spacy\n",
        "from spacy.tokenizer import Tokenizer"
      ],
      "execution_count": null,
      "outputs": []
    },
    {
      "cell_type": "code",
      "metadata": {
        "id": "ZiMzrI_h8C4e"
      },
      "source": [
        "nlp = spacy.load('en_core_web_lg')\n",
        "tokenizer = Tokenizer(nlp.vocab)\n",
        "# lemmatization을 사용하고 싶었는데 시간이 너무 오래 걸림"
      ],
      "execution_count": null,
      "outputs": []
    },
    {
      "cell_type": "code",
      "metadata": {
        "id": "OHK_Mk008C4e",
        "outputId": "38e08112-547d-4408-b336-91cdeb24f2a3"
      },
      "source": [
        "print('tokenize review...')\n",
        "df['review_tokens'] = df['review'].apply(lambda x: [ token.text for token in tokenizer(x)])"
      ],
      "execution_count": null,
      "outputs": [
        {
          "output_type": "stream",
          "text": [
            "tokenize review...\n"
          ],
          "name": "stdout"
        }
      ]
    },
    {
      "cell_type": "code",
      "metadata": {
        "id": "xelYYp978C4e",
        "outputId": "0c3c5406-6f22-41b3-d365-4adc73a6c6c3"
      },
      "source": [
        "print('tokenize summary...')\n",
        "df['summary_tokens'] = df['summary'].apply(lambda x: [ token.text for token in tokenizer(x)])"
      ],
      "execution_count": null,
      "outputs": [
        {
          "output_type": "stream",
          "text": [
            "tokenize summary...\n"
          ],
          "name": "stdout"
        }
      ]
    },
    {
      "cell_type": "code",
      "metadata": {
        "id": "_pzhUe9n8C4e",
        "outputId": "56123f4b-2069-45b9-fb09-dbfa44903055"
      },
      "source": [
        "df.head(2)"
      ],
      "execution_count": null,
      "outputs": [
        {
          "output_type": "execute_result",
          "data": {
            "text/html": [
              "<div>\n",
              "<style scoped>\n",
              "    .dataframe tbody tr th:only-of-type {\n",
              "        vertical-align: middle;\n",
              "    }\n",
              "\n",
              "    .dataframe tbody tr th {\n",
              "        vertical-align: top;\n",
              "    }\n",
              "\n",
              "    .dataframe thead th {\n",
              "        text-align: right;\n",
              "    }\n",
              "</style>\n",
              "<table border=\"1\" class=\"dataframe\">\n",
              "  <thead>\n",
              "    <tr style=\"text-align: right;\">\n",
              "      <th></th>\n",
              "      <th>movie_id</th>\n",
              "      <th>summary</th>\n",
              "      <th>duration</th>\n",
              "      <th>score_total</th>\n",
              "      <th>genre_num</th>\n",
              "      <th>genre_main</th>\n",
              "      <th>release_year</th>\n",
              "      <th>summary_len</th>\n",
              "      <th>user_id</th>\n",
              "      <th>is_spoiler</th>\n",
              "      <th>review</th>\n",
              "      <th>score_by_user</th>\n",
              "      <th>review_year</th>\n",
              "      <th>review_len</th>\n",
              "      <th>review_before_release</th>\n",
              "      <th>year_dif</th>\n",
              "      <th>review_tokens</th>\n",
              "      <th>summary_tokens</th>\n",
              "    </tr>\n",
              "  </thead>\n",
              "  <tbody>\n",
              "    <tr>\n",
              "      <th>0</th>\n",
              "      <td>tt0105112</td>\n",
              "      <td>former cia analyst jack ryan is in england wit...</td>\n",
              "      <td>117</td>\n",
              "      <td>6.9</td>\n",
              "      <td>2</td>\n",
              "      <td>Action</td>\n",
              "      <td>1992</td>\n",
              "      <td>990</td>\n",
              "      <td>ur16517420</td>\n",
              "      <td>1</td>\n",
              "      <td>the second tom clancy novel made into a film '...</td>\n",
              "      <td>6</td>\n",
              "      <td>2008</td>\n",
              "      <td>2004</td>\n",
              "      <td>0</td>\n",
              "      <td>16</td>\n",
              "      <td>[the, second, tom, clancy, novel, made, into, ...</td>\n",
              "      <td>[former, cia, analyst, jack, ryan, is, in, eng...</td>\n",
              "    </tr>\n",
              "    <tr>\n",
              "      <th>1</th>\n",
              "      <td>tt0105112</td>\n",
              "      <td>former cia analyst jack ryan is in england wit...</td>\n",
              "      <td>117</td>\n",
              "      <td>6.9</td>\n",
              "      <td>2</td>\n",
              "      <td>Action</td>\n",
              "      <td>1992</td>\n",
              "      <td>990</td>\n",
              "      <td>ur13887584</td>\n",
              "      <td>1</td>\n",
              "      <td>the second in what looks like becoming the 'ja...</td>\n",
              "      <td>7</td>\n",
              "      <td>2007</td>\n",
              "      <td>665</td>\n",
              "      <td>0</td>\n",
              "      <td>15</td>\n",
              "      <td>[the, second, in, what, looks, like, becoming,...</td>\n",
              "      <td>[former, cia, analyst, jack, ryan, is, in, eng...</td>\n",
              "    </tr>\n",
              "  </tbody>\n",
              "</table>\n",
              "</div>"
            ],
            "text/plain": [
              "    movie_id                                            summary  duration  \\\n",
              "0  tt0105112  former cia analyst jack ryan is in england wit...       117   \n",
              "1  tt0105112  former cia analyst jack ryan is in england wit...       117   \n",
              "\n",
              "   score_total  genre_num genre_main  release_year  summary_len     user_id  \\\n",
              "0          6.9          2     Action          1992          990  ur16517420   \n",
              "1          6.9          2     Action          1992          990  ur13887584   \n",
              "\n",
              "   is_spoiler                                             review  \\\n",
              "0           1  the second tom clancy novel made into a film '...   \n",
              "1           1  the second in what looks like becoming the 'ja...   \n",
              "\n",
              "   score_by_user  review_year  review_len  review_before_release  year_dif  \\\n",
              "0              6         2008        2004                      0        16   \n",
              "1              7         2007         665                      0        15   \n",
              "\n",
              "                                       review_tokens  \\\n",
              "0  [the, second, tom, clancy, novel, made, into, ...   \n",
              "1  [the, second, in, what, looks, like, becoming,...   \n",
              "\n",
              "                                      summary_tokens  \n",
              "0  [former, cia, analyst, jack, ryan, is, in, eng...  \n",
              "1  [former, cia, analyst, jack, ryan, is, in, eng...  "
            ]
          },
          "metadata": {
            "tags": []
          },
          "execution_count": 77
        }
      ]
    },
    {
      "cell_type": "code",
      "metadata": {
        "id": "PSTXRQFT8C4f"
      },
      "source": [
        "from gensim.models import KeyedVectors"
      ],
      "execution_count": null,
      "outputs": []
    },
    {
      "cell_type": "code",
      "metadata": {
        "id": "d7nAFqSn8C4f",
        "outputId": "60b99460-5229-4c27-de68-f269ff5a47ed"
      },
      "source": [
        "import nltk\n",
        "nltk.download('stopwords')\n",
        "\n",
        "from nltk.corpus import stopwords"
      ],
      "execution_count": null,
      "outputs": [
        {
          "output_type": "stream",
          "text": [
            "[nltk_data] Downloading package stopwords to\n",
            "[nltk_data]     /Users/gayeon/nltk_data...\n",
            "[nltk_data]   Package stopwords is already up-to-date!\n"
          ],
          "name": "stderr"
        }
      ]
    },
    {
      "cell_type": "code",
      "metadata": {
        "id": "RSocSBlZ8C4f"
      },
      "source": [
        "EMBEDDING_FILE = 'GoogleNews-vectors-negative300.bin.gz'"
      ],
      "execution_count": null,
      "outputs": []
    },
    {
      "cell_type": "code",
      "metadata": {
        "id": "HIaWjkiMSXnt"
      },
      "source": [
        "word2vec = KeyedVectors.load_word2vec_format(EMBEDDING_FILE, binary=True)"
      ],
      "execution_count": null,
      "outputs": []
    },
    {
      "cell_type": "code",
      "metadata": {
        "id": "uqtn6mRN8C4f"
      },
      "source": [
        "# 단어 목록 생성\n",
        "voc_dict = dict()\n",
        "inverse_vocabulary = ['<nan>']\n",
        "stops = set(stopwords.words('english'))"
      ],
      "execution_count": null,
      "outputs": []
    },
    {
      "cell_type": "code",
      "metadata": {
        "id": "lmMlrDSN8C4f"
      },
      "source": [
        "for index, row in df.iterrows():\n",
        "    for col in ['summary_tokens', 'review_tokens']:\n",
        "        text_to_list = []\n",
        "        \n",
        "        for word in row[col]:\n",
        "            \n",
        "            # 이번 단어가 불용어이면 그냥 지나감\n",
        "            if (word in stops) and (word not in word2vec.vocab):\n",
        "                continue\n",
        "            \n",
        "            # 단어가 voc_dict에 없을 경우 추가\n",
        "            if word not in voc_dict:\n",
        "                voc_dict[word] = len(inverse_vocabulary)\n",
        "                text_to_list.append(len(inverse_vocabulary))\n",
        "                inverse_vocabulary.append(word)\n",
        "            else:\n",
        "                text_to_list.append(voc_dict[word])\n",
        "         \n",
        "        # 토큰 리스트를 숫자 리스트로 교체\n",
        "        df.at[index, col] = text_to_list"
      ],
      "execution_count": null,
      "outputs": []
    },
    {
      "cell_type": "code",
      "metadata": {
        "id": "xqZuoiZS8C4g"
      },
      "source": [
        "# embedding matrix 생성\n",
        "np.random.seed(42)\n",
        "embedding_dim = 300\n",
        "\n",
        "embeddings = 1 * np.random.randn(len(voc_dict) + 1, embedding_dim)\n",
        "embeddings[0] = 0\n",
        "\n",
        "for word, index in voc_dict.items():\n",
        "    \n",
        "    # word2vec.vocab에 있는 단어이면 해당 단어의 벡터로 교체, 아니면 랜덤값 유지\n",
        "    if word in word2vec.vocab:\n",
        "        embeddings[index] = word2vec.word_vec(word)"
      ],
      "execution_count": null,
      "outputs": []
    },
    {
      "cell_type": "markdown",
      "metadata": {
        "id": "rk5E-GDU8C4g"
      },
      "source": [
        "### 4) 데이터 정리 및 저장"
      ]
    },
    {
      "cell_type": "code",
      "metadata": {
        "id": "XJxDyM0U8C4g"
      },
      "source": [
        "from sklearn.model_selection import train_test_split"
      ],
      "execution_count": null,
      "outputs": []
    },
    {
      "cell_type": "code",
      "metadata": {
        "id": "kfseUxKG8C4g",
        "outputId": "ad258a3c-6ef0-486c-db19-ce5bfc7a1333"
      },
      "source": [
        "# train, validation, test dataset 나누기\n",
        "target = 'is_spoiler'\n",
        "\n",
        "train, test = train_test_split(df,\n",
        "                               test_size=0.2,\n",
        "                               random_state=42,\n",
        "                               stratify=df[target])\n",
        "\n",
        "train, val = train_test_split(train,\n",
        "                              test_size=0.25,\n",
        "                              random_state=42,\n",
        "                              stratify=train[target])\n",
        "\n",
        "\n",
        "print(train.shape, val.shape, test.shape)"
      ],
      "execution_count": null,
      "outputs": [
        {
          "output_type": "stream",
          "text": [
            "(229720, 18) (76574, 18) (76574, 18)\n"
          ],
          "name": "stdout"
        }
      ]
    },
    {
      "cell_type": "code",
      "metadata": {
        "id": "S3ug_Vq68C4g"
      },
      "source": [
        "import pickle\n",
        "import gzip"
      ],
      "execution_count": null,
      "outputs": []
    },
    {
      "cell_type": "code",
      "metadata": {
        "id": "Fvq_pMcM8C4g"
      },
      "source": [
        "# 저장 함수 생성\n",
        "def save_as_pickle(data, file_name):\n",
        "    base_path = 'IMDB_Spoiler_Dataset'\n",
        "    file_path = os.path.join(base_path, file_name)\n",
        "    \n",
        "    with gzip.open(file_path, 'wb') as f:\n",
        "        pickle.dump(data, f)"
      ],
      "execution_count": null,
      "outputs": []
    },
    {
      "cell_type": "code",
      "metadata": {
        "id": "ZiCCdPmN8C4h",
        "outputId": "520a2695-1685-46f7-8b89-ec29ffcc8754"
      },
      "source": [
        "train.head(1)"
      ],
      "execution_count": null,
      "outputs": [
        {
          "output_type": "execute_result",
          "data": {
            "text/html": [
              "<div>\n",
              "<style scoped>\n",
              "    .dataframe tbody tr th:only-of-type {\n",
              "        vertical-align: middle;\n",
              "    }\n",
              "\n",
              "    .dataframe tbody tr th {\n",
              "        vertical-align: top;\n",
              "    }\n",
              "\n",
              "    .dataframe thead th {\n",
              "        text-align: right;\n",
              "    }\n",
              "</style>\n",
              "<table border=\"1\" class=\"dataframe\">\n",
              "  <thead>\n",
              "    <tr style=\"text-align: right;\">\n",
              "      <th></th>\n",
              "      <th>movie_id</th>\n",
              "      <th>summary</th>\n",
              "      <th>duration</th>\n",
              "      <th>score_total</th>\n",
              "      <th>genre_num</th>\n",
              "      <th>genre_main</th>\n",
              "      <th>release_year</th>\n",
              "      <th>summary_len</th>\n",
              "      <th>user_id</th>\n",
              "      <th>is_spoiler</th>\n",
              "      <th>review</th>\n",
              "      <th>score_by_user</th>\n",
              "      <th>review_year</th>\n",
              "      <th>review_len</th>\n",
              "      <th>review_before_release</th>\n",
              "      <th>year_dif</th>\n",
              "      <th>review_tokens</th>\n",
              "      <th>summary_tokens</th>\n",
              "    </tr>\n",
              "  </thead>\n",
              "  <tbody>\n",
              "    <tr>\n",
              "      <th>71233</th>\n",
              "      <td>tt0384537</td>\n",
              "      <td>sharon da silva wakes up every night screaming...</td>\n",
              "      <td>125</td>\n",
              "      <td>6.6</td>\n",
              "      <td>3</td>\n",
              "      <td>Adventure</td>\n",
              "      <td>2006</td>\n",
              "      <td>358</td>\n",
              "      <td>ur1688679</td>\n",
              "      <td>0</td>\n",
              "      <td>every once in a while the telltaleterror cross...</td>\n",
              "      <td>9</td>\n",
              "      <td>2007</td>\n",
              "      <td>1235</td>\n",
              "      <td>0</td>\n",
              "      <td>1</td>\n",
              "      <td>[382, 582, 7, 1285, 32, 211089, 52566, 1384, 9...</td>\n",
              "      <td>[14322, 20766, 190187, 30621, 189, 382, 1142, ...</td>\n",
              "    </tr>\n",
              "  </tbody>\n",
              "</table>\n",
              "</div>"
            ],
            "text/plain": [
              "        movie_id                                            summary  duration  \\\n",
              "71233  tt0384537  sharon da silva wakes up every night screaming...       125   \n",
              "\n",
              "       score_total  genre_num genre_main  release_year  summary_len  \\\n",
              "71233          6.6          3  Adventure          2006          358   \n",
              "\n",
              "         user_id  is_spoiler  \\\n",
              "71233  ur1688679           0   \n",
              "\n",
              "                                                  review  score_by_user  \\\n",
              "71233  every once in a while the telltaleterror cross...              9   \n",
              "\n",
              "       review_year  review_len  review_before_release  year_dif  \\\n",
              "71233         2007        1235                      0         1   \n",
              "\n",
              "                                           review_tokens  \\\n",
              "71233  [382, 582, 7, 1285, 32, 211089, 52566, 1384, 9...   \n",
              "\n",
              "                                          summary_tokens  \n",
              "71233  [14322, 20766, 190187, 30621, 189, 382, 1142, ...  "
            ]
          },
          "metadata": {
            "tags": []
          },
          "execution_count": 89
        }
      ]
    },
    {
      "cell_type": "code",
      "metadata": {
        "id": "06wGMZsQ8C4h",
        "outputId": "10a44d3f-f817-422e-ab6b-bf06f15f669c"
      },
      "source": [
        "# synopsis, review 내용은 없는 dataset (feature + target)\n",
        "col = ['duration', 'score_total', 'genre_num', 'genre_main',\n",
        "       'release_year', 'summary_len', 'score_by_user', 'review_year',\n",
        "       'review_len', 'review_before_release', 'year_dif', 'is_spoiler']\n",
        "\n",
        "print('save train...')\n",
        "save_as_pickle(train[col], 'train.pickle')\n",
        "print('save val...')\n",
        "save_as_pickle(val[col], 'val.pickle')\n",
        "print('save test...')\n",
        "save_as_pickle(test[col], 'test.pickle')\n",
        "\n",
        "print('save embeddings...')\n",
        "save_as_pickle(embeddings, 'embeddings.pickle')\n",
        "print('save voc_dict...')\n",
        "save_as_pickle(voc_dict, 'voc_dict.pickle')"
      ],
      "execution_count": null,
      "outputs": [
        {
          "output_type": "stream",
          "text": [
            "save train...\n",
            "save val...\n",
            "save test...\n",
            "save embeddings...\n",
            "save voc_dict...\n"
          ],
          "name": "stdout"
        }
      ]
    },
    {
      "cell_type": "code",
      "metadata": {
        "id": "g9BARi7G8C4h"
      },
      "source": [
        "import itertools\n",
        "from keras.preprocessing.sequence import pad_sequences"
      ],
      "execution_count": null,
      "outputs": []
    },
    {
      "cell_type": "code",
      "metadata": {
        "id": "JcGgg2Co8C4h"
      },
      "source": [
        "# 토큰 dataset zero padding 후 따로 저장 (feature / target)\n",
        "target = 'is_spoiler'\n",
        "\n",
        "X_train = {'summary': train['summary_tokens'],\n",
        "           'review':train['review_tokens']}\n",
        "\n",
        "X_val = {'summary': val['summary_tokens'],\n",
        "         'review':val['review_tokens']}\n",
        "\n",
        "X_test = {'summary': test['summary_tokens'],\n",
        "          'review':test['review_tokens']}\n",
        "\n",
        "y_train = train[target].values\n",
        "y_val = val[target].values\n",
        "y_test = test[target].values"
      ],
      "execution_count": null,
      "outputs": []
    },
    {
      "cell_type": "code",
      "metadata": {
        "id": "BiH2i7ss8C4h",
        "outputId": "8aa6f213-b3dd-4acb-d558-863e3066198a"
      },
      "source": [
        "# zero padding\n",
        "max_len = max(\n",
        "    train['summary_tokens'].map(lambda x: len(x)).max(),\n",
        "    train['review_tokens'].map(lambda x: len(x)).max(),\n",
        "    val['summary_tokens'].map(lambda x: len(x)).max(),\n",
        "    val['review_tokens'].map(lambda x: len(x)).max(),\n",
        "    test['summary_tokens'].map(lambda x: len(x)).max(),\n",
        "    test['review_tokens'].map(lambda x: len(x)).max())\n",
        "\n",
        "print(max_len)\n",
        "print('zero paddings...')\n",
        "\n",
        "for dataset, side in itertools.product([X_train, X_val, X_test], ['summary', 'review']):\n",
        "    dataset[side] = pad_sequences(dataset[side], maxlen=max_len)"
      ],
      "execution_count": null,
      "outputs": [
        {
          "output_type": "stream",
          "text": [
            "514\n",
            "zero paddings...\n"
          ],
          "name": "stdout"
        }
      ]
    },
    {
      "cell_type": "code",
      "metadata": {
        "id": "Y9g0zJM38C4i",
        "outputId": "fbda1945-7d08-4e91-cf8d-12b99670ae7a"
      },
      "source": [
        "print('save X_train_word...')\n",
        "save_as_pickle(X_train, 'X_train_word.pickle')\n",
        "print('save X_val_word...')\n",
        "save_as_pickle(X_val, 'X_val_word.pickle')\n",
        "print('save X_test_word...')\n",
        "save_as_pickle(X_test, 'X_test_word.pickle')\n",
        "\n",
        "print('save y_train...')\n",
        "save_as_pickle(y_train, 'y_train.pickle')\n",
        "print('save y_val...')\n",
        "save_as_pickle(y_val, 'y_val.pickle')\n",
        "print('save y_test...')\n",
        "save_as_pickle(y_test, 'y_test.pickle')\n",
        "\n",
        "print('save max_len...')\n",
        "save_as_pickle(max_len, 'max_len.pickle')"
      ],
      "execution_count": null,
      "outputs": [
        {
          "output_type": "stream",
          "text": [
            "save X_train_word...\n",
            "save X_val_word...\n",
            "save X_test_word...\n",
            "save y_train...\n",
            "save y_val...\n",
            "save y_test...\n",
            "save max_len...\n"
          ],
          "name": "stdout"
        }
      ]
    },
    {
      "cell_type": "code",
      "metadata": {
        "id": "Htmuu0VK8C4i",
        "outputId": "90aab428-c1f3-4e78-e318-8920dc4e7801"
      },
      "source": [
        "# bert를 위해서 문장 그대로의 데이터셋도 저장\n",
        "col = ['summary', 'review', 'is_spoiler']\n",
        "\n",
        "print('save train_sentences...')\n",
        "save_as_pickle(train[col], 'train_sentences.pickle')\n",
        "print('save val_sentences...')\n",
        "save_as_pickle(val[col], 'val_sentences.pickle')\n",
        "print('save test_sentences...')\n",
        "save_as_pickle(test[col], 'test_sentences.pickle')"
      ],
      "execution_count": null,
      "outputs": [
        {
          "output_type": "stream",
          "text": [
            "save train_sentences...\n",
            "save val_sentences...\n",
            "save test_sentences...\n"
          ],
          "name": "stdout"
        }
      ]
    }
  ]
}